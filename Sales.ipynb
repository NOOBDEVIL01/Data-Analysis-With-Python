{
 "cells": [
  {
   "cell_type": "code",
   "execution_count": 1,
   "metadata": {},
   "outputs": [],
   "source": [
    "import numpy as np\n",
    "import pandas as  pd\n",
    "import matplotlib.pyplot as plt\n",
    "import seaborn as sns"
   ]
  },
  {
   "cell_type": "code",
   "execution_count": 2,
   "metadata": {},
   "outputs": [
    {
     "data": {
      "text/html": [
       "<div>\n",
       "<style scoped>\n",
       "    .dataframe tbody tr th:only-of-type {\n",
       "        vertical-align: middle;\n",
       "    }\n",
       "\n",
       "    .dataframe tbody tr th {\n",
       "        vertical-align: top;\n",
       "    }\n",
       "\n",
       "    .dataframe thead th {\n",
       "        text-align: right;\n",
       "    }\n",
       "</style>\n",
       "<table border=\"1\" class=\"dataframe\">\n",
       "  <thead>\n",
       "    <tr style=\"text-align: right;\">\n",
       "      <th></th>\n",
       "      <th>index</th>\n",
       "      <th>Order ID</th>\n",
       "      <th>Cust ID</th>\n",
       "      <th>Gender</th>\n",
       "      <th>Age</th>\n",
       "      <th>Date</th>\n",
       "      <th>Status</th>\n",
       "      <th>Channel</th>\n",
       "      <th>SKU</th>\n",
       "      <th>Category</th>\n",
       "      <th>Size</th>\n",
       "      <th>Qty</th>\n",
       "      <th>currency</th>\n",
       "      <th>Amount</th>\n",
       "      <th>ship-city</th>\n",
       "      <th>ship-state</th>\n",
       "      <th>ship-postal-code</th>\n",
       "      <th>ship-country</th>\n",
       "      <th>B2B</th>\n",
       "    </tr>\n",
       "  </thead>\n",
       "  <tbody>\n",
       "    <tr>\n",
       "      <th>0</th>\n",
       "      <td>1</td>\n",
       "      <td>171-1029312-3038738</td>\n",
       "      <td>1029312</td>\n",
       "      <td>Women</td>\n",
       "      <td>44</td>\n",
       "      <td>04-12-2022</td>\n",
       "      <td>Delivered</td>\n",
       "      <td>Myntra</td>\n",
       "      <td>JNE1233-BLUE-KR-031-XXL</td>\n",
       "      <td>kurta</td>\n",
       "      <td>XXL</td>\n",
       "      <td>1</td>\n",
       "      <td>INR</td>\n",
       "      <td>376</td>\n",
       "      <td>MOHALI</td>\n",
       "      <td>PUNJAB</td>\n",
       "      <td>140301</td>\n",
       "      <td>IN</td>\n",
       "      <td>False</td>\n",
       "    </tr>\n",
       "    <tr>\n",
       "      <th>1</th>\n",
       "      <td>2</td>\n",
       "      <td>405-2183842-2225946</td>\n",
       "      <td>2183842</td>\n",
       "      <td>Women</td>\n",
       "      <td>29</td>\n",
       "      <td>04-12-2022</td>\n",
       "      <td>Delivered</td>\n",
       "      <td>Ajio</td>\n",
       "      <td>SET414-KR-NP-L</td>\n",
       "      <td>Set</td>\n",
       "      <td>L</td>\n",
       "      <td>1</td>\n",
       "      <td>INR</td>\n",
       "      <td>1449</td>\n",
       "      <td>GURUGRAM</td>\n",
       "      <td>HARYANA</td>\n",
       "      <td>122002</td>\n",
       "      <td>IN</td>\n",
       "      <td>False</td>\n",
       "    </tr>\n",
       "    <tr>\n",
       "      <th>2</th>\n",
       "      <td>3</td>\n",
       "      <td>171-1641533-8921966</td>\n",
       "      <td>1641533</td>\n",
       "      <td>Women</td>\n",
       "      <td>67</td>\n",
       "      <td>04-12-2022</td>\n",
       "      <td>Delivered</td>\n",
       "      <td>Myntra</td>\n",
       "      <td>SET261-KR-PP-S</td>\n",
       "      <td>Set</td>\n",
       "      <td>S</td>\n",
       "      <td>1</td>\n",
       "      <td>INR</td>\n",
       "      <td>453</td>\n",
       "      <td>KOLKATA</td>\n",
       "      <td>WEST BENGAL</td>\n",
       "      <td>700029</td>\n",
       "      <td>IN</td>\n",
       "      <td>False</td>\n",
       "    </tr>\n",
       "    <tr>\n",
       "      <th>3</th>\n",
       "      <td>4</td>\n",
       "      <td>404-7490807-6300351</td>\n",
       "      <td>7490807</td>\n",
       "      <td>Women</td>\n",
       "      <td>20</td>\n",
       "      <td>04-12-2022</td>\n",
       "      <td>Delivered</td>\n",
       "      <td>Amazon</td>\n",
       "      <td>SET110-KR-PP-M</td>\n",
       "      <td>Set</td>\n",
       "      <td>M</td>\n",
       "      <td>1</td>\n",
       "      <td>INR</td>\n",
       "      <td>729</td>\n",
       "      <td>THANJAVUR</td>\n",
       "      <td>TAMIL NADU</td>\n",
       "      <td>613007</td>\n",
       "      <td>IN</td>\n",
       "      <td>False</td>\n",
       "    </tr>\n",
       "    <tr>\n",
       "      <th>4</th>\n",
       "      <td>5</td>\n",
       "      <td>403-9293516-4577154</td>\n",
       "      <td>9293516</td>\n",
       "      <td>Women</td>\n",
       "      <td>62</td>\n",
       "      <td>04-12-2022</td>\n",
       "      <td>Delivered</td>\n",
       "      <td>Myntra</td>\n",
       "      <td>JNE2294-KR-A-XXL</td>\n",
       "      <td>kurta</td>\n",
       "      <td>XXL</td>\n",
       "      <td>1</td>\n",
       "      <td>INR</td>\n",
       "      <td>544</td>\n",
       "      <td>GURUGRAM</td>\n",
       "      <td>HARYANA</td>\n",
       "      <td>122001</td>\n",
       "      <td>IN</td>\n",
       "      <td>False</td>\n",
       "    </tr>\n",
       "    <tr>\n",
       "      <th>...</th>\n",
       "      <td>...</td>\n",
       "      <td>...</td>\n",
       "      <td>...</td>\n",
       "      <td>...</td>\n",
       "      <td>...</td>\n",
       "      <td>...</td>\n",
       "      <td>...</td>\n",
       "      <td>...</td>\n",
       "      <td>...</td>\n",
       "      <td>...</td>\n",
       "      <td>...</td>\n",
       "      <td>...</td>\n",
       "      <td>...</td>\n",
       "      <td>...</td>\n",
       "      <td>...</td>\n",
       "      <td>...</td>\n",
       "      <td>...</td>\n",
       "      <td>...</td>\n",
       "      <td>...</td>\n",
       "    </tr>\n",
       "    <tr>\n",
       "      <th>31042</th>\n",
       "      <td>31043</td>\n",
       "      <td>405-4724097-1016369</td>\n",
       "      <td>4724097</td>\n",
       "      <td>M</td>\n",
       "      <td>60</td>\n",
       "      <td>06-01-2022</td>\n",
       "      <td>Delivered</td>\n",
       "      <td>Flipkart</td>\n",
       "      <td>J0083-KR-XL</td>\n",
       "      <td>kurta</td>\n",
       "      <td>XL</td>\n",
       "      <td>One</td>\n",
       "      <td>INR</td>\n",
       "      <td>565</td>\n",
       "      <td>PUNE</td>\n",
       "      <td>MAHARASHTRA</td>\n",
       "      <td>412307</td>\n",
       "      <td>IN</td>\n",
       "      <td>False</td>\n",
       "    </tr>\n",
       "    <tr>\n",
       "      <th>31043</th>\n",
       "      <td>31044</td>\n",
       "      <td>405-4724097-1016369</td>\n",
       "      <td>4724097</td>\n",
       "      <td>M</td>\n",
       "      <td>34</td>\n",
       "      <td>06-01-2022</td>\n",
       "      <td>Delivered</td>\n",
       "      <td>Myntra</td>\n",
       "      <td>J0010-LCD-S</td>\n",
       "      <td>Set</td>\n",
       "      <td>S</td>\n",
       "      <td>One</td>\n",
       "      <td>INR</td>\n",
       "      <td>939</td>\n",
       "      <td>BENGALURU</td>\n",
       "      <td>KARNATAKA</td>\n",
       "      <td>560061</td>\n",
       "      <td>IN</td>\n",
       "      <td>False</td>\n",
       "    </tr>\n",
       "    <tr>\n",
       "      <th>31044</th>\n",
       "      <td>31045</td>\n",
       "      <td>408-3572295-5992330</td>\n",
       "      <td>3572295</td>\n",
       "      <td>M</td>\n",
       "      <td>29</td>\n",
       "      <td>06-01-2022</td>\n",
       "      <td>Delivered</td>\n",
       "      <td>Amazon</td>\n",
       "      <td>SET398-KR-PP-L</td>\n",
       "      <td>Set</td>\n",
       "      <td>L</td>\n",
       "      <td>One</td>\n",
       "      <td>INR</td>\n",
       "      <td>1115</td>\n",
       "      <td>PITHORAGARH</td>\n",
       "      <td>UTTARAKHAND</td>\n",
       "      <td>262501</td>\n",
       "      <td>IN</td>\n",
       "      <td>False</td>\n",
       "    </tr>\n",
       "    <tr>\n",
       "      <th>31045</th>\n",
       "      <td>31046</td>\n",
       "      <td>405-1423498-9705162</td>\n",
       "      <td>1423498</td>\n",
       "      <td>M</td>\n",
       "      <td>46</td>\n",
       "      <td>06-01-2022</td>\n",
       "      <td>Delivered</td>\n",
       "      <td>Amazon</td>\n",
       "      <td>JNE3568-KR-M</td>\n",
       "      <td>kurta</td>\n",
       "      <td>M</td>\n",
       "      <td>One</td>\n",
       "      <td>INR</td>\n",
       "      <td>399</td>\n",
       "      <td>DHULE</td>\n",
       "      <td>MAHARASHTRA</td>\n",
       "      <td>424006</td>\n",
       "      <td>IN</td>\n",
       "      <td>False</td>\n",
       "    </tr>\n",
       "    <tr>\n",
       "      <th>31046</th>\n",
       "      <td>31047</td>\n",
       "      <td>408-4694875-8249153</td>\n",
       "      <td>4694875</td>\n",
       "      <td>M</td>\n",
       "      <td>36</td>\n",
       "      <td>06-01-2022</td>\n",
       "      <td>Delivered</td>\n",
       "      <td>Flipkart</td>\n",
       "      <td>J0341-DR-XXXL</td>\n",
       "      <td>Western Dress</td>\n",
       "      <td>3XL</td>\n",
       "      <td>One</td>\n",
       "      <td>INR</td>\n",
       "      <td>791</td>\n",
       "      <td>WARANGAL</td>\n",
       "      <td>TELANGANA</td>\n",
       "      <td>506001</td>\n",
       "      <td>IN</td>\n",
       "      <td>False</td>\n",
       "    </tr>\n",
       "  </tbody>\n",
       "</table>\n",
       "<p>31047 rows × 19 columns</p>\n",
       "</div>"
      ],
      "text/plain": [
       "       index             Order ID  Cust ID Gender  Age        Date     Status   \n",
       "0          1  171-1029312-3038738  1029312  Women   44  04-12-2022  Delivered  \\\n",
       "1          2  405-2183842-2225946  2183842  Women   29  04-12-2022  Delivered   \n",
       "2          3  171-1641533-8921966  1641533  Women   67  04-12-2022  Delivered   \n",
       "3          4  404-7490807-6300351  7490807  Women   20  04-12-2022  Delivered   \n",
       "4          5  403-9293516-4577154  9293516  Women   62  04-12-2022  Delivered   \n",
       "...      ...                  ...      ...    ...  ...         ...        ...   \n",
       "31042  31043  405-4724097-1016369  4724097      M   60  06-01-2022  Delivered   \n",
       "31043  31044  405-4724097-1016369  4724097      M   34  06-01-2022  Delivered   \n",
       "31044  31045  408-3572295-5992330  3572295      M   29  06-01-2022  Delivered   \n",
       "31045  31046  405-1423498-9705162  1423498      M   46  06-01-2022  Delivered   \n",
       "31046  31047  408-4694875-8249153  4694875      M   36  06-01-2022  Delivered   \n",
       "\n",
       "       Channel                       SKU       Category Size  Qty currency   \n",
       "0        Myntra  JNE1233-BLUE-KR-031-XXL          kurta  XXL    1      INR  \\\n",
       "1          Ajio           SET414-KR-NP-L            Set    L    1      INR   \n",
       "2        Myntra           SET261-KR-PP-S            Set    S    1      INR   \n",
       "3        Amazon           SET110-KR-PP-M            Set    M    1      INR   \n",
       "4        Myntra         JNE2294-KR-A-XXL          kurta  XXL    1      INR   \n",
       "...         ...                      ...            ...  ...  ...      ...   \n",
       "31042  Flipkart              J0083-KR-XL          kurta   XL  One      INR   \n",
       "31043    Myntra              J0010-LCD-S            Set    S  One      INR   \n",
       "31044    Amazon           SET398-KR-PP-L            Set    L  One      INR   \n",
       "31045    Amazon             JNE3568-KR-M          kurta    M  One      INR   \n",
       "31046  Flipkart            J0341-DR-XXXL  Western Dress  3XL  One      INR   \n",
       "\n",
       "       Amount    ship-city   ship-state  ship-postal-code ship-country    B2B  \n",
       "0         376       MOHALI       PUNJAB            140301           IN  False  \n",
       "1        1449     GURUGRAM      HARYANA            122002           IN  False  \n",
       "2         453      KOLKATA  WEST BENGAL            700029           IN  False  \n",
       "3         729    THANJAVUR   TAMIL NADU            613007           IN  False  \n",
       "4         544     GURUGRAM      HARYANA            122001           IN  False  \n",
       "...       ...          ...          ...               ...          ...    ...  \n",
       "31042     565         PUNE  MAHARASHTRA            412307           IN  False  \n",
       "31043     939    BENGALURU    KARNATAKA            560061           IN  False  \n",
       "31044    1115  PITHORAGARH  UTTARAKHAND            262501           IN  False  \n",
       "31045     399        DHULE  MAHARASHTRA            424006           IN  False  \n",
       "31046     791     WARANGAL    TELANGANA            506001           IN  False  \n",
       "\n",
       "[31047 rows x 19 columns]"
      ]
     },
     "execution_count": 2,
     "metadata": {},
     "output_type": "execute_result"
    }
   ],
   "source": [
    "df=pd.read_csv(\"Store sale.csv\")\n",
    "df"
   ]
  },
  {
   "cell_type": "code",
   "execution_count": 3,
   "metadata": {},
   "outputs": [
    {
     "data": {
      "text/plain": [
       "(31047, 19)"
      ]
     },
     "execution_count": 3,
     "metadata": {},
     "output_type": "execute_result"
    }
   ],
   "source": [
    "df.shape"
   ]
  },
  {
   "cell_type": "code",
   "execution_count": 4,
   "metadata": {},
   "outputs": [
    {
     "data": {
      "text/html": [
       "<div>\n",
       "<style scoped>\n",
       "    .dataframe tbody tr th:only-of-type {\n",
       "        vertical-align: middle;\n",
       "    }\n",
       "\n",
       "    .dataframe tbody tr th {\n",
       "        vertical-align: top;\n",
       "    }\n",
       "\n",
       "    .dataframe thead th {\n",
       "        text-align: right;\n",
       "    }\n",
       "</style>\n",
       "<table border=\"1\" class=\"dataframe\">\n",
       "  <thead>\n",
       "    <tr style=\"text-align: right;\">\n",
       "      <th></th>\n",
       "      <th>index</th>\n",
       "      <th>Order ID</th>\n",
       "      <th>Cust ID</th>\n",
       "      <th>Gender</th>\n",
       "      <th>Age</th>\n",
       "      <th>Date</th>\n",
       "      <th>Status</th>\n",
       "      <th>Channel</th>\n",
       "      <th>SKU</th>\n",
       "      <th>Category</th>\n",
       "      <th>Size</th>\n",
       "      <th>Qty</th>\n",
       "      <th>currency</th>\n",
       "      <th>Amount</th>\n",
       "      <th>ship-city</th>\n",
       "      <th>ship-state</th>\n",
       "      <th>ship-postal-code</th>\n",
       "      <th>ship-country</th>\n",
       "      <th>B2B</th>\n",
       "    </tr>\n",
       "  </thead>\n",
       "  <tbody>\n",
       "  </tbody>\n",
       "</table>\n",
       "</div>"
      ],
      "text/plain": [
       "Empty DataFrame\n",
       "Columns: [index, Order ID, Cust ID, Gender, Age, Date, Status, Channel , SKU, Category, Size, Qty, currency, Amount, ship-city, ship-state, ship-postal-code, ship-country, B2B]\n",
       "Index: []"
      ]
     },
     "execution_count": 4,
     "metadata": {},
     "output_type": "execute_result"
    }
   ],
   "source": [
    "df[df.duplicated()]"
   ]
  },
  {
   "cell_type": "code",
   "execution_count": 5,
   "metadata": {},
   "outputs": [
    {
     "name": "stdout",
     "output_type": "stream",
     "text": [
      "<class 'pandas.core.frame.DataFrame'>\n",
      "RangeIndex: 31047 entries, 0 to 31046\n",
      "Data columns (total 19 columns):\n",
      " #   Column            Non-Null Count  Dtype \n",
      "---  ------            --------------  ----- \n",
      " 0   index             31047 non-null  int64 \n",
      " 1   Order ID          31047 non-null  object\n",
      " 2   Cust ID           31047 non-null  int64 \n",
      " 3   Gender            31047 non-null  object\n",
      " 4   Age               31047 non-null  int64 \n",
      " 5   Date              31047 non-null  object\n",
      " 6   Status            31047 non-null  object\n",
      " 7   Channel           31047 non-null  object\n",
      " 8   SKU               31047 non-null  object\n",
      " 9   Category          31047 non-null  object\n",
      " 10  Size              31047 non-null  object\n",
      " 11  Qty               31047 non-null  object\n",
      " 12  currency          31047 non-null  object\n",
      " 13  Amount            31047 non-null  int64 \n",
      " 14  ship-city         31047 non-null  object\n",
      " 15  ship-state        31047 non-null  object\n",
      " 16  ship-postal-code  31047 non-null  int64 \n",
      " 17  ship-country      31047 non-null  object\n",
      " 18  B2B               31047 non-null  bool  \n",
      "dtypes: bool(1), int64(5), object(13)\n",
      "memory usage: 4.3+ MB\n"
     ]
    }
   ],
   "source": [
    "df.info()"
   ]
  },
  {
   "cell_type": "code",
   "execution_count": 6,
   "metadata": {},
   "outputs": [
    {
     "data": {
      "text/plain": [
       "Index(['index', 'Order ID', 'Cust ID', 'Gender', 'Age', 'Date', 'Status',\n",
       "       'Channel ', 'SKU', 'Category', 'Size', 'Qty', 'currency', 'Amount',\n",
       "       'ship-city', 'ship-state', 'ship-postal-code', 'ship-country', 'B2B'],\n",
       "      dtype='object')"
      ]
     },
     "execution_count": 6,
     "metadata": {},
     "output_type": "execute_result"
    }
   ],
   "source": [
    "df.columns"
   ]
  },
  {
   "cell_type": "code",
   "execution_count": 7,
   "metadata": {},
   "outputs": [
    {
     "data": {
      "text/plain": [
       "index               31047\n",
       "Order ID            28471\n",
       "Cust ID             28437\n",
       "Gender                  4\n",
       "Age                    61\n",
       "Date                   36\n",
       "Status                  4\n",
       "Channel                 7\n",
       "SKU                  5287\n",
       "Category                8\n",
       "Size                   11\n",
       "Qty                     7\n",
       "currency                1\n",
       "Amount                769\n",
       "ship-city            2603\n",
       "ship-state             50\n",
       "ship-postal-code     4958\n",
       "ship-country            1\n",
       "B2B                     2\n",
       "dtype: int64"
      ]
     },
     "execution_count": 7,
     "metadata": {},
     "output_type": "execute_result"
    }
   ],
   "source": [
    "df.nunique()"
   ]
  },
  {
   "cell_type": "code",
   "execution_count": 8,
   "metadata": {},
   "outputs": [],
   "source": [
    "df.rename(columns={\"currency\":\"Currency\",\"ship-city\":\"City\",\"ship-state\":\"State\",\"ship-postal-code\":\"Postal Code\",\"ship-country\":\"Country\",\"Channel \":\"Channel\"},inplace=True)"
   ]
  },
  {
   "cell_type": "code",
   "execution_count": 9,
   "metadata": {},
   "outputs": [
    {
     "data": {
      "text/plain": [
       "Index(['index', 'Order ID', 'Cust ID', 'Gender', 'Age', 'Date', 'Status',\n",
       "       'Channel', 'SKU', 'Category', 'Size', 'Qty', 'Currency', 'Amount',\n",
       "       'City', 'State', 'Postal Code', 'Country', 'B2B'],\n",
       "      dtype='object')"
      ]
     },
     "execution_count": 9,
     "metadata": {},
     "output_type": "execute_result"
    }
   ],
   "source": [
    "df.columns"
   ]
  },
  {
   "cell_type": "code",
   "execution_count": 10,
   "metadata": {},
   "outputs": [
    {
     "data": {
      "text/plain": [
       "array(['Women', 'Men', 'W', 'M'], dtype=object)"
      ]
     },
     "execution_count": 10,
     "metadata": {},
     "output_type": "execute_result"
    }
   ],
   "source": [
    "df[\"Gender\"].unique()"
   ]
  },
  {
   "cell_type": "code",
   "execution_count": 11,
   "metadata": {},
   "outputs": [],
   "source": [
    "def convert_Gender(cell):\n",
    "    if cell==\"Men\":\n",
    "        return \"M\"\n",
    "    elif cell==\"M\":\n",
    "        return \"M\"\n",
    "    elif cell==\"Women\":\n",
    "        return \"W\"\n",
    "    else:\n",
    "        return \"W\""
   ]
  },
  {
   "cell_type": "code",
   "execution_count": 12,
   "metadata": {},
   "outputs": [],
   "source": [
    "df[\"Gender\"]=df[\"Gender\"].apply(lambda x:convert_Gender(x))"
   ]
  },
  {
   "cell_type": "code",
   "execution_count": 13,
   "metadata": {},
   "outputs": [],
   "source": [
    "def sethoodie(cell):\n",
    "    if cell==\"Set\":\n",
    "        return \"Hoodie\"\n",
    "    else:\n",
    "        return cell\n",
    "df[\"Category\"]=df[\"Category\"].apply(lambda x:sethoodie(x))"
   ]
  },
  {
   "cell_type": "code",
   "execution_count": 14,
   "metadata": {},
   "outputs": [],
   "source": [
    "def setsouledstore(cell):\n",
    "    if cell==\"Nalli\":\n",
    "        return \"Souled Store\"\n",
    "    else:\n",
    "        return cell\n",
    "df[\"Channel\"]=df[\"Channel\"].apply(lambda x:setsouledstore(x))"
   ]
  },
  {
   "cell_type": "code",
   "execution_count": 15,
   "metadata": {},
   "outputs": [
    {
     "data": {
      "text/html": [
       "<div>\n",
       "<style scoped>\n",
       "    .dataframe tbody tr th:only-of-type {\n",
       "        vertical-align: middle;\n",
       "    }\n",
       "\n",
       "    .dataframe tbody tr th {\n",
       "        vertical-align: top;\n",
       "    }\n",
       "\n",
       "    .dataframe thead th {\n",
       "        text-align: right;\n",
       "    }\n",
       "</style>\n",
       "<table border=\"1\" class=\"dataframe\">\n",
       "  <thead>\n",
       "    <tr style=\"text-align: right;\">\n",
       "      <th></th>\n",
       "      <th>index</th>\n",
       "      <th>Order ID</th>\n",
       "      <th>Cust ID</th>\n",
       "      <th>Gender</th>\n",
       "      <th>Age</th>\n",
       "      <th>Date</th>\n",
       "      <th>Status</th>\n",
       "      <th>Channel</th>\n",
       "      <th>SKU</th>\n",
       "      <th>Category</th>\n",
       "      <th>Size</th>\n",
       "      <th>Qty</th>\n",
       "      <th>Currency</th>\n",
       "      <th>Amount</th>\n",
       "      <th>City</th>\n",
       "      <th>State</th>\n",
       "      <th>Postal Code</th>\n",
       "      <th>Country</th>\n",
       "      <th>B2B</th>\n",
       "    </tr>\n",
       "  </thead>\n",
       "  <tbody>\n",
       "    <tr>\n",
       "      <th>0</th>\n",
       "      <td>1</td>\n",
       "      <td>171-1029312-3038738</td>\n",
       "      <td>1029312</td>\n",
       "      <td>W</td>\n",
       "      <td>44</td>\n",
       "      <td>04-12-2022</td>\n",
       "      <td>Delivered</td>\n",
       "      <td>Myntra</td>\n",
       "      <td>JNE1233-BLUE-KR-031-XXL</td>\n",
       "      <td>kurta</td>\n",
       "      <td>XXL</td>\n",
       "      <td>1</td>\n",
       "      <td>INR</td>\n",
       "      <td>376</td>\n",
       "      <td>MOHALI</td>\n",
       "      <td>PUNJAB</td>\n",
       "      <td>140301</td>\n",
       "      <td>IN</td>\n",
       "      <td>False</td>\n",
       "    </tr>\n",
       "    <tr>\n",
       "      <th>1</th>\n",
       "      <td>2</td>\n",
       "      <td>405-2183842-2225946</td>\n",
       "      <td>2183842</td>\n",
       "      <td>W</td>\n",
       "      <td>29</td>\n",
       "      <td>04-12-2022</td>\n",
       "      <td>Delivered</td>\n",
       "      <td>Ajio</td>\n",
       "      <td>SET414-KR-NP-L</td>\n",
       "      <td>Hoodie</td>\n",
       "      <td>L</td>\n",
       "      <td>1</td>\n",
       "      <td>INR</td>\n",
       "      <td>1449</td>\n",
       "      <td>GURUGRAM</td>\n",
       "      <td>HARYANA</td>\n",
       "      <td>122002</td>\n",
       "      <td>IN</td>\n",
       "      <td>False</td>\n",
       "    </tr>\n",
       "  </tbody>\n",
       "</table>\n",
       "</div>"
      ],
      "text/plain": [
       "   index             Order ID  Cust ID Gender  Age        Date     Status   \n",
       "0      1  171-1029312-3038738  1029312      W   44  04-12-2022  Delivered  \\\n",
       "1      2  405-2183842-2225946  2183842      W   29  04-12-2022  Delivered   \n",
       "\n",
       "  Channel                      SKU Category Size Qty Currency  Amount   \n",
       "0  Myntra  JNE1233-BLUE-KR-031-XXL    kurta  XXL   1      INR     376  \\\n",
       "1    Ajio           SET414-KR-NP-L   Hoodie    L   1      INR    1449   \n",
       "\n",
       "       City    State  Postal Code Country    B2B  \n",
       "0    MOHALI   PUNJAB       140301      IN  False  \n",
       "1  GURUGRAM  HARYANA       122002      IN  False  "
      ]
     },
     "execution_count": 15,
     "metadata": {},
     "output_type": "execute_result"
    }
   ],
   "source": [
    "df.head(2)"
   ]
  },
  {
   "cell_type": "code",
   "execution_count": 16,
   "metadata": {},
   "outputs": [],
   "source": [
    "df[\"Date\"]=pd.to_datetime(df[\"Date\"])"
   ]
  },
  {
   "cell_type": "code",
   "execution_count": 17,
   "metadata": {},
   "outputs": [
    {
     "data": {
      "text/html": [
       "<div>\n",
       "<style scoped>\n",
       "    .dataframe tbody tr th:only-of-type {\n",
       "        vertical-align: middle;\n",
       "    }\n",
       "\n",
       "    .dataframe tbody tr th {\n",
       "        vertical-align: top;\n",
       "    }\n",
       "\n",
       "    .dataframe thead th {\n",
       "        text-align: right;\n",
       "    }\n",
       "</style>\n",
       "<table border=\"1\" class=\"dataframe\">\n",
       "  <thead>\n",
       "    <tr style=\"text-align: right;\">\n",
       "      <th></th>\n",
       "      <th>index</th>\n",
       "      <th>Order ID</th>\n",
       "      <th>Cust ID</th>\n",
       "      <th>Gender</th>\n",
       "      <th>Age</th>\n",
       "      <th>Date</th>\n",
       "      <th>Status</th>\n",
       "      <th>Channel</th>\n",
       "      <th>SKU</th>\n",
       "      <th>Category</th>\n",
       "      <th>Size</th>\n",
       "      <th>Qty</th>\n",
       "      <th>Currency</th>\n",
       "      <th>Amount</th>\n",
       "      <th>City</th>\n",
       "      <th>State</th>\n",
       "      <th>Postal Code</th>\n",
       "      <th>Country</th>\n",
       "      <th>B2B</th>\n",
       "    </tr>\n",
       "  </thead>\n",
       "  <tbody>\n",
       "    <tr>\n",
       "      <th>0</th>\n",
       "      <td>1</td>\n",
       "      <td>171-1029312-3038738</td>\n",
       "      <td>1029312</td>\n",
       "      <td>W</td>\n",
       "      <td>44</td>\n",
       "      <td>2022-04-12</td>\n",
       "      <td>Delivered</td>\n",
       "      <td>Myntra</td>\n",
       "      <td>JNE1233-BLUE-KR-031-XXL</td>\n",
       "      <td>kurta</td>\n",
       "      <td>XXL</td>\n",
       "      <td>1</td>\n",
       "      <td>INR</td>\n",
       "      <td>376</td>\n",
       "      <td>MOHALI</td>\n",
       "      <td>PUNJAB</td>\n",
       "      <td>140301</td>\n",
       "      <td>IN</td>\n",
       "      <td>False</td>\n",
       "    </tr>\n",
       "    <tr>\n",
       "      <th>1</th>\n",
       "      <td>2</td>\n",
       "      <td>405-2183842-2225946</td>\n",
       "      <td>2183842</td>\n",
       "      <td>W</td>\n",
       "      <td>29</td>\n",
       "      <td>2022-04-12</td>\n",
       "      <td>Delivered</td>\n",
       "      <td>Ajio</td>\n",
       "      <td>SET414-KR-NP-L</td>\n",
       "      <td>Hoodie</td>\n",
       "      <td>L</td>\n",
       "      <td>1</td>\n",
       "      <td>INR</td>\n",
       "      <td>1449</td>\n",
       "      <td>GURUGRAM</td>\n",
       "      <td>HARYANA</td>\n",
       "      <td>122002</td>\n",
       "      <td>IN</td>\n",
       "      <td>False</td>\n",
       "    </tr>\n",
       "    <tr>\n",
       "      <th>2</th>\n",
       "      <td>3</td>\n",
       "      <td>171-1641533-8921966</td>\n",
       "      <td>1641533</td>\n",
       "      <td>W</td>\n",
       "      <td>67</td>\n",
       "      <td>2022-04-12</td>\n",
       "      <td>Delivered</td>\n",
       "      <td>Myntra</td>\n",
       "      <td>SET261-KR-PP-S</td>\n",
       "      <td>Hoodie</td>\n",
       "      <td>S</td>\n",
       "      <td>1</td>\n",
       "      <td>INR</td>\n",
       "      <td>453</td>\n",
       "      <td>KOLKATA</td>\n",
       "      <td>WEST BENGAL</td>\n",
       "      <td>700029</td>\n",
       "      <td>IN</td>\n",
       "      <td>False</td>\n",
       "    </tr>\n",
       "    <tr>\n",
       "      <th>3</th>\n",
       "      <td>4</td>\n",
       "      <td>404-7490807-6300351</td>\n",
       "      <td>7490807</td>\n",
       "      <td>W</td>\n",
       "      <td>20</td>\n",
       "      <td>2022-04-12</td>\n",
       "      <td>Delivered</td>\n",
       "      <td>Amazon</td>\n",
       "      <td>SET110-KR-PP-M</td>\n",
       "      <td>Hoodie</td>\n",
       "      <td>M</td>\n",
       "      <td>1</td>\n",
       "      <td>INR</td>\n",
       "      <td>729</td>\n",
       "      <td>THANJAVUR</td>\n",
       "      <td>TAMIL NADU</td>\n",
       "      <td>613007</td>\n",
       "      <td>IN</td>\n",
       "      <td>False</td>\n",
       "    </tr>\n",
       "    <tr>\n",
       "      <th>4</th>\n",
       "      <td>5</td>\n",
       "      <td>403-9293516-4577154</td>\n",
       "      <td>9293516</td>\n",
       "      <td>W</td>\n",
       "      <td>62</td>\n",
       "      <td>2022-04-12</td>\n",
       "      <td>Delivered</td>\n",
       "      <td>Myntra</td>\n",
       "      <td>JNE2294-KR-A-XXL</td>\n",
       "      <td>kurta</td>\n",
       "      <td>XXL</td>\n",
       "      <td>1</td>\n",
       "      <td>INR</td>\n",
       "      <td>544</td>\n",
       "      <td>GURUGRAM</td>\n",
       "      <td>HARYANA</td>\n",
       "      <td>122001</td>\n",
       "      <td>IN</td>\n",
       "      <td>False</td>\n",
       "    </tr>\n",
       "  </tbody>\n",
       "</table>\n",
       "</div>"
      ],
      "text/plain": [
       "   index             Order ID  Cust ID Gender  Age       Date     Status   \n",
       "0      1  171-1029312-3038738  1029312      W   44 2022-04-12  Delivered  \\\n",
       "1      2  405-2183842-2225946  2183842      W   29 2022-04-12  Delivered   \n",
       "2      3  171-1641533-8921966  1641533      W   67 2022-04-12  Delivered   \n",
       "3      4  404-7490807-6300351  7490807      W   20 2022-04-12  Delivered   \n",
       "4      5  403-9293516-4577154  9293516      W   62 2022-04-12  Delivered   \n",
       "\n",
       "  Channel                      SKU Category Size Qty Currency  Amount   \n",
       "0  Myntra  JNE1233-BLUE-KR-031-XXL    kurta  XXL   1      INR     376  \\\n",
       "1    Ajio           SET414-KR-NP-L   Hoodie    L   1      INR    1449   \n",
       "2  Myntra           SET261-KR-PP-S   Hoodie    S   1      INR     453   \n",
       "3  Amazon           SET110-KR-PP-M   Hoodie    M   1      INR     729   \n",
       "4  Myntra         JNE2294-KR-A-XXL    kurta  XXL   1      INR     544   \n",
       "\n",
       "        City        State  Postal Code Country    B2B  \n",
       "0     MOHALI       PUNJAB       140301      IN  False  \n",
       "1   GURUGRAM      HARYANA       122002      IN  False  \n",
       "2    KOLKATA  WEST BENGAL       700029      IN  False  \n",
       "3  THANJAVUR   TAMIL NADU       613007      IN  False  \n",
       "4   GURUGRAM      HARYANA       122001      IN  False  "
      ]
     },
     "execution_count": 17,
     "metadata": {},
     "output_type": "execute_result"
    }
   ],
   "source": [
    "df.head()"
   ]
  },
  {
   "cell_type": "code",
   "execution_count": 18,
   "metadata": {},
   "outputs": [
    {
     "data": {
      "text/plain": [
       "Date\n",
       "2022    31047\n",
       "Name: count, dtype: int64"
      ]
     },
     "execution_count": 18,
     "metadata": {},
     "output_type": "execute_result"
    }
   ],
   "source": [
    "df[\"Date\"].dt.year.value_counts() "
   ]
  },
  {
   "cell_type": "code",
   "execution_count": 19,
   "metadata": {},
   "outputs": [
    {
     "data": {
      "text/plain": [
       "Date\n",
       "5    10825\n",
       "4    10758\n",
       "6     9464\n",
       "Name: count, dtype: int64"
      ]
     },
     "execution_count": 19,
     "metadata": {},
     "output_type": "execute_result"
    }
   ],
   "source": [
    "df[\"Date\"].dt.month.value_counts()"
   ]
  },
  {
   "cell_type": "code",
   "execution_count": 20,
   "metadata": {},
   "outputs": [
    {
     "data": {
      "text/html": [
       "<div>\n",
       "<style scoped>\n",
       "    .dataframe tbody tr th:only-of-type {\n",
       "        vertical-align: middle;\n",
       "    }\n",
       "\n",
       "    .dataframe tbody tr th {\n",
       "        vertical-align: top;\n",
       "    }\n",
       "\n",
       "    .dataframe thead th {\n",
       "        text-align: right;\n",
       "    }\n",
       "</style>\n",
       "<table border=\"1\" class=\"dataframe\">\n",
       "  <thead>\n",
       "    <tr style=\"text-align: right;\">\n",
       "      <th></th>\n",
       "      <th>index</th>\n",
       "      <th>Order ID</th>\n",
       "      <th>Cust ID</th>\n",
       "      <th>Gender</th>\n",
       "      <th>Age</th>\n",
       "      <th>Date</th>\n",
       "      <th>Status</th>\n",
       "      <th>Channel</th>\n",
       "      <th>SKU</th>\n",
       "      <th>Category</th>\n",
       "      <th>Size</th>\n",
       "      <th>Qty</th>\n",
       "      <th>Currency</th>\n",
       "      <th>Amount</th>\n",
       "      <th>City</th>\n",
       "      <th>State</th>\n",
       "      <th>Postal Code</th>\n",
       "      <th>Country</th>\n",
       "      <th>B2B</th>\n",
       "    </tr>\n",
       "  </thead>\n",
       "  <tbody>\n",
       "    <tr>\n",
       "      <th>0</th>\n",
       "      <td>1</td>\n",
       "      <td>171-1029312-3038738</td>\n",
       "      <td>1029312</td>\n",
       "      <td>W</td>\n",
       "      <td>44</td>\n",
       "      <td>2022-04-12</td>\n",
       "      <td>Delivered</td>\n",
       "      <td>Myntra</td>\n",
       "      <td>JNE1233-BLUE-KR-031-XXL</td>\n",
       "      <td>kurta</td>\n",
       "      <td>XXL</td>\n",
       "      <td>1</td>\n",
       "      <td>INR</td>\n",
       "      <td>376</td>\n",
       "      <td>MOHALI</td>\n",
       "      <td>PUNJAB</td>\n",
       "      <td>140301</td>\n",
       "      <td>IN</td>\n",
       "      <td>False</td>\n",
       "    </tr>\n",
       "    <tr>\n",
       "      <th>1</th>\n",
       "      <td>2</td>\n",
       "      <td>405-2183842-2225946</td>\n",
       "      <td>2183842</td>\n",
       "      <td>W</td>\n",
       "      <td>29</td>\n",
       "      <td>2022-04-12</td>\n",
       "      <td>Delivered</td>\n",
       "      <td>Ajio</td>\n",
       "      <td>SET414-KR-NP-L</td>\n",
       "      <td>Hoodie</td>\n",
       "      <td>L</td>\n",
       "      <td>1</td>\n",
       "      <td>INR</td>\n",
       "      <td>1449</td>\n",
       "      <td>GURUGRAM</td>\n",
       "      <td>HARYANA</td>\n",
       "      <td>122002</td>\n",
       "      <td>IN</td>\n",
       "      <td>False</td>\n",
       "    </tr>\n",
       "    <tr>\n",
       "      <th>2</th>\n",
       "      <td>3</td>\n",
       "      <td>171-1641533-8921966</td>\n",
       "      <td>1641533</td>\n",
       "      <td>W</td>\n",
       "      <td>67</td>\n",
       "      <td>2022-04-12</td>\n",
       "      <td>Delivered</td>\n",
       "      <td>Myntra</td>\n",
       "      <td>SET261-KR-PP-S</td>\n",
       "      <td>Hoodie</td>\n",
       "      <td>S</td>\n",
       "      <td>1</td>\n",
       "      <td>INR</td>\n",
       "      <td>453</td>\n",
       "      <td>KOLKATA</td>\n",
       "      <td>WEST BENGAL</td>\n",
       "      <td>700029</td>\n",
       "      <td>IN</td>\n",
       "      <td>False</td>\n",
       "    </tr>\n",
       "    <tr>\n",
       "      <th>3</th>\n",
       "      <td>4</td>\n",
       "      <td>404-7490807-6300351</td>\n",
       "      <td>7490807</td>\n",
       "      <td>W</td>\n",
       "      <td>20</td>\n",
       "      <td>2022-04-12</td>\n",
       "      <td>Delivered</td>\n",
       "      <td>Amazon</td>\n",
       "      <td>SET110-KR-PP-M</td>\n",
       "      <td>Hoodie</td>\n",
       "      <td>M</td>\n",
       "      <td>1</td>\n",
       "      <td>INR</td>\n",
       "      <td>729</td>\n",
       "      <td>THANJAVUR</td>\n",
       "      <td>TAMIL NADU</td>\n",
       "      <td>613007</td>\n",
       "      <td>IN</td>\n",
       "      <td>False</td>\n",
       "    </tr>\n",
       "    <tr>\n",
       "      <th>4</th>\n",
       "      <td>5</td>\n",
       "      <td>403-9293516-4577154</td>\n",
       "      <td>9293516</td>\n",
       "      <td>W</td>\n",
       "      <td>62</td>\n",
       "      <td>2022-04-12</td>\n",
       "      <td>Delivered</td>\n",
       "      <td>Myntra</td>\n",
       "      <td>JNE2294-KR-A-XXL</td>\n",
       "      <td>kurta</td>\n",
       "      <td>XXL</td>\n",
       "      <td>1</td>\n",
       "      <td>INR</td>\n",
       "      <td>544</td>\n",
       "      <td>GURUGRAM</td>\n",
       "      <td>HARYANA</td>\n",
       "      <td>122001</td>\n",
       "      <td>IN</td>\n",
       "      <td>False</td>\n",
       "    </tr>\n",
       "  </tbody>\n",
       "</table>\n",
       "</div>"
      ],
      "text/plain": [
       "   index             Order ID  Cust ID Gender  Age       Date     Status   \n",
       "0      1  171-1029312-3038738  1029312      W   44 2022-04-12  Delivered  \\\n",
       "1      2  405-2183842-2225946  2183842      W   29 2022-04-12  Delivered   \n",
       "2      3  171-1641533-8921966  1641533      W   67 2022-04-12  Delivered   \n",
       "3      4  404-7490807-6300351  7490807      W   20 2022-04-12  Delivered   \n",
       "4      5  403-9293516-4577154  9293516      W   62 2022-04-12  Delivered   \n",
       "\n",
       "  Channel                      SKU Category Size Qty Currency  Amount   \n",
       "0  Myntra  JNE1233-BLUE-KR-031-XXL    kurta  XXL   1      INR     376  \\\n",
       "1    Ajio           SET414-KR-NP-L   Hoodie    L   1      INR    1449   \n",
       "2  Myntra           SET261-KR-PP-S   Hoodie    S   1      INR     453   \n",
       "3  Amazon           SET110-KR-PP-M   Hoodie    M   1      INR     729   \n",
       "4  Myntra         JNE2294-KR-A-XXL    kurta  XXL   1      INR     544   \n",
       "\n",
       "        City        State  Postal Code Country    B2B  \n",
       "0     MOHALI       PUNJAB       140301      IN  False  \n",
       "1   GURUGRAM      HARYANA       122002      IN  False  \n",
       "2    KOLKATA  WEST BENGAL       700029      IN  False  \n",
       "3  THANJAVUR   TAMIL NADU       613007      IN  False  \n",
       "4   GURUGRAM      HARYANA       122001      IN  False  "
      ]
     },
     "execution_count": 20,
     "metadata": {},
     "output_type": "execute_result"
    }
   ],
   "source": [
    "df.head(5)"
   ]
  },
  {
   "cell_type": "code",
   "execution_count": 21,
   "metadata": {},
   "outputs": [],
   "source": [
    "df=df.drop(\"index\",axis=1)"
   ]
  },
  {
   "cell_type": "code",
   "execution_count": 22,
   "metadata": {},
   "outputs": [
    {
     "data": {
      "text/html": [
       "<div>\n",
       "<style scoped>\n",
       "    .dataframe tbody tr th:only-of-type {\n",
       "        vertical-align: middle;\n",
       "    }\n",
       "\n",
       "    .dataframe tbody tr th {\n",
       "        vertical-align: top;\n",
       "    }\n",
       "\n",
       "    .dataframe thead th {\n",
       "        text-align: right;\n",
       "    }\n",
       "</style>\n",
       "<table border=\"1\" class=\"dataframe\">\n",
       "  <thead>\n",
       "    <tr style=\"text-align: right;\">\n",
       "      <th></th>\n",
       "      <th>Order ID</th>\n",
       "      <th>Cust ID</th>\n",
       "      <th>Gender</th>\n",
       "      <th>Age</th>\n",
       "      <th>Date</th>\n",
       "      <th>Status</th>\n",
       "      <th>Channel</th>\n",
       "      <th>SKU</th>\n",
       "      <th>Category</th>\n",
       "      <th>Size</th>\n",
       "      <th>Qty</th>\n",
       "      <th>Currency</th>\n",
       "      <th>Amount</th>\n",
       "      <th>City</th>\n",
       "      <th>State</th>\n",
       "      <th>Postal Code</th>\n",
       "      <th>Country</th>\n",
       "      <th>B2B</th>\n",
       "    </tr>\n",
       "  </thead>\n",
       "  <tbody>\n",
       "    <tr>\n",
       "      <th>0</th>\n",
       "      <td>171-1029312-3038738</td>\n",
       "      <td>1029312</td>\n",
       "      <td>W</td>\n",
       "      <td>44</td>\n",
       "      <td>2022-04-12</td>\n",
       "      <td>Delivered</td>\n",
       "      <td>Myntra</td>\n",
       "      <td>JNE1233-BLUE-KR-031-XXL</td>\n",
       "      <td>kurta</td>\n",
       "      <td>XXL</td>\n",
       "      <td>1</td>\n",
       "      <td>INR</td>\n",
       "      <td>376</td>\n",
       "      <td>MOHALI</td>\n",
       "      <td>PUNJAB</td>\n",
       "      <td>140301</td>\n",
       "      <td>IN</td>\n",
       "      <td>False</td>\n",
       "    </tr>\n",
       "    <tr>\n",
       "      <th>1</th>\n",
       "      <td>405-2183842-2225946</td>\n",
       "      <td>2183842</td>\n",
       "      <td>W</td>\n",
       "      <td>29</td>\n",
       "      <td>2022-04-12</td>\n",
       "      <td>Delivered</td>\n",
       "      <td>Ajio</td>\n",
       "      <td>SET414-KR-NP-L</td>\n",
       "      <td>Hoodie</td>\n",
       "      <td>L</td>\n",
       "      <td>1</td>\n",
       "      <td>INR</td>\n",
       "      <td>1449</td>\n",
       "      <td>GURUGRAM</td>\n",
       "      <td>HARYANA</td>\n",
       "      <td>122002</td>\n",
       "      <td>IN</td>\n",
       "      <td>False</td>\n",
       "    </tr>\n",
       "    <tr>\n",
       "      <th>2</th>\n",
       "      <td>171-1641533-8921966</td>\n",
       "      <td>1641533</td>\n",
       "      <td>W</td>\n",
       "      <td>67</td>\n",
       "      <td>2022-04-12</td>\n",
       "      <td>Delivered</td>\n",
       "      <td>Myntra</td>\n",
       "      <td>SET261-KR-PP-S</td>\n",
       "      <td>Hoodie</td>\n",
       "      <td>S</td>\n",
       "      <td>1</td>\n",
       "      <td>INR</td>\n",
       "      <td>453</td>\n",
       "      <td>KOLKATA</td>\n",
       "      <td>WEST BENGAL</td>\n",
       "      <td>700029</td>\n",
       "      <td>IN</td>\n",
       "      <td>False</td>\n",
       "    </tr>\n",
       "    <tr>\n",
       "      <th>3</th>\n",
       "      <td>404-7490807-6300351</td>\n",
       "      <td>7490807</td>\n",
       "      <td>W</td>\n",
       "      <td>20</td>\n",
       "      <td>2022-04-12</td>\n",
       "      <td>Delivered</td>\n",
       "      <td>Amazon</td>\n",
       "      <td>SET110-KR-PP-M</td>\n",
       "      <td>Hoodie</td>\n",
       "      <td>M</td>\n",
       "      <td>1</td>\n",
       "      <td>INR</td>\n",
       "      <td>729</td>\n",
       "      <td>THANJAVUR</td>\n",
       "      <td>TAMIL NADU</td>\n",
       "      <td>613007</td>\n",
       "      <td>IN</td>\n",
       "      <td>False</td>\n",
       "    </tr>\n",
       "    <tr>\n",
       "      <th>4</th>\n",
       "      <td>403-9293516-4577154</td>\n",
       "      <td>9293516</td>\n",
       "      <td>W</td>\n",
       "      <td>62</td>\n",
       "      <td>2022-04-12</td>\n",
       "      <td>Delivered</td>\n",
       "      <td>Myntra</td>\n",
       "      <td>JNE2294-KR-A-XXL</td>\n",
       "      <td>kurta</td>\n",
       "      <td>XXL</td>\n",
       "      <td>1</td>\n",
       "      <td>INR</td>\n",
       "      <td>544</td>\n",
       "      <td>GURUGRAM</td>\n",
       "      <td>HARYANA</td>\n",
       "      <td>122001</td>\n",
       "      <td>IN</td>\n",
       "      <td>False</td>\n",
       "    </tr>\n",
       "    <tr>\n",
       "      <th>...</th>\n",
       "      <td>...</td>\n",
       "      <td>...</td>\n",
       "      <td>...</td>\n",
       "      <td>...</td>\n",
       "      <td>...</td>\n",
       "      <td>...</td>\n",
       "      <td>...</td>\n",
       "      <td>...</td>\n",
       "      <td>...</td>\n",
       "      <td>...</td>\n",
       "      <td>...</td>\n",
       "      <td>...</td>\n",
       "      <td>...</td>\n",
       "      <td>...</td>\n",
       "      <td>...</td>\n",
       "      <td>...</td>\n",
       "      <td>...</td>\n",
       "      <td>...</td>\n",
       "    </tr>\n",
       "    <tr>\n",
       "      <th>31042</th>\n",
       "      <td>405-4724097-1016369</td>\n",
       "      <td>4724097</td>\n",
       "      <td>M</td>\n",
       "      <td>60</td>\n",
       "      <td>2022-06-01</td>\n",
       "      <td>Delivered</td>\n",
       "      <td>Flipkart</td>\n",
       "      <td>J0083-KR-XL</td>\n",
       "      <td>kurta</td>\n",
       "      <td>XL</td>\n",
       "      <td>One</td>\n",
       "      <td>INR</td>\n",
       "      <td>565</td>\n",
       "      <td>PUNE</td>\n",
       "      <td>MAHARASHTRA</td>\n",
       "      <td>412307</td>\n",
       "      <td>IN</td>\n",
       "      <td>False</td>\n",
       "    </tr>\n",
       "    <tr>\n",
       "      <th>31043</th>\n",
       "      <td>405-4724097-1016369</td>\n",
       "      <td>4724097</td>\n",
       "      <td>M</td>\n",
       "      <td>34</td>\n",
       "      <td>2022-06-01</td>\n",
       "      <td>Delivered</td>\n",
       "      <td>Myntra</td>\n",
       "      <td>J0010-LCD-S</td>\n",
       "      <td>Hoodie</td>\n",
       "      <td>S</td>\n",
       "      <td>One</td>\n",
       "      <td>INR</td>\n",
       "      <td>939</td>\n",
       "      <td>BENGALURU</td>\n",
       "      <td>KARNATAKA</td>\n",
       "      <td>560061</td>\n",
       "      <td>IN</td>\n",
       "      <td>False</td>\n",
       "    </tr>\n",
       "    <tr>\n",
       "      <th>31044</th>\n",
       "      <td>408-3572295-5992330</td>\n",
       "      <td>3572295</td>\n",
       "      <td>M</td>\n",
       "      <td>29</td>\n",
       "      <td>2022-06-01</td>\n",
       "      <td>Delivered</td>\n",
       "      <td>Amazon</td>\n",
       "      <td>SET398-KR-PP-L</td>\n",
       "      <td>Hoodie</td>\n",
       "      <td>L</td>\n",
       "      <td>One</td>\n",
       "      <td>INR</td>\n",
       "      <td>1115</td>\n",
       "      <td>PITHORAGARH</td>\n",
       "      <td>UTTARAKHAND</td>\n",
       "      <td>262501</td>\n",
       "      <td>IN</td>\n",
       "      <td>False</td>\n",
       "    </tr>\n",
       "    <tr>\n",
       "      <th>31045</th>\n",
       "      <td>405-1423498-9705162</td>\n",
       "      <td>1423498</td>\n",
       "      <td>M</td>\n",
       "      <td>46</td>\n",
       "      <td>2022-06-01</td>\n",
       "      <td>Delivered</td>\n",
       "      <td>Amazon</td>\n",
       "      <td>JNE3568-KR-M</td>\n",
       "      <td>kurta</td>\n",
       "      <td>M</td>\n",
       "      <td>One</td>\n",
       "      <td>INR</td>\n",
       "      <td>399</td>\n",
       "      <td>DHULE</td>\n",
       "      <td>MAHARASHTRA</td>\n",
       "      <td>424006</td>\n",
       "      <td>IN</td>\n",
       "      <td>False</td>\n",
       "    </tr>\n",
       "    <tr>\n",
       "      <th>31046</th>\n",
       "      <td>408-4694875-8249153</td>\n",
       "      <td>4694875</td>\n",
       "      <td>M</td>\n",
       "      <td>36</td>\n",
       "      <td>2022-06-01</td>\n",
       "      <td>Delivered</td>\n",
       "      <td>Flipkart</td>\n",
       "      <td>J0341-DR-XXXL</td>\n",
       "      <td>Western Dress</td>\n",
       "      <td>3XL</td>\n",
       "      <td>One</td>\n",
       "      <td>INR</td>\n",
       "      <td>791</td>\n",
       "      <td>WARANGAL</td>\n",
       "      <td>TELANGANA</td>\n",
       "      <td>506001</td>\n",
       "      <td>IN</td>\n",
       "      <td>False</td>\n",
       "    </tr>\n",
       "  </tbody>\n",
       "</table>\n",
       "<p>31047 rows × 18 columns</p>\n",
       "</div>"
      ],
      "text/plain": [
       "                  Order ID  Cust ID Gender  Age       Date     Status   \n",
       "0      171-1029312-3038738  1029312      W   44 2022-04-12  Delivered  \\\n",
       "1      405-2183842-2225946  2183842      W   29 2022-04-12  Delivered   \n",
       "2      171-1641533-8921966  1641533      W   67 2022-04-12  Delivered   \n",
       "3      404-7490807-6300351  7490807      W   20 2022-04-12  Delivered   \n",
       "4      403-9293516-4577154  9293516      W   62 2022-04-12  Delivered   \n",
       "...                    ...      ...    ...  ...        ...        ...   \n",
       "31042  405-4724097-1016369  4724097      M   60 2022-06-01  Delivered   \n",
       "31043  405-4724097-1016369  4724097      M   34 2022-06-01  Delivered   \n",
       "31044  408-3572295-5992330  3572295      M   29 2022-06-01  Delivered   \n",
       "31045  405-1423498-9705162  1423498      M   46 2022-06-01  Delivered   \n",
       "31046  408-4694875-8249153  4694875      M   36 2022-06-01  Delivered   \n",
       "\n",
       "        Channel                      SKU       Category Size  Qty Currency   \n",
       "0        Myntra  JNE1233-BLUE-KR-031-XXL          kurta  XXL    1      INR  \\\n",
       "1          Ajio           SET414-KR-NP-L         Hoodie    L    1      INR   \n",
       "2        Myntra           SET261-KR-PP-S         Hoodie    S    1      INR   \n",
       "3        Amazon           SET110-KR-PP-M         Hoodie    M    1      INR   \n",
       "4        Myntra         JNE2294-KR-A-XXL          kurta  XXL    1      INR   \n",
       "...         ...                      ...            ...  ...  ...      ...   \n",
       "31042  Flipkart              J0083-KR-XL          kurta   XL  One      INR   \n",
       "31043    Myntra              J0010-LCD-S         Hoodie    S  One      INR   \n",
       "31044    Amazon           SET398-KR-PP-L         Hoodie    L  One      INR   \n",
       "31045    Amazon             JNE3568-KR-M          kurta    M  One      INR   \n",
       "31046  Flipkart            J0341-DR-XXXL  Western Dress  3XL  One      INR   \n",
       "\n",
       "       Amount         City        State  Postal Code Country    B2B  \n",
       "0         376       MOHALI       PUNJAB       140301      IN  False  \n",
       "1        1449     GURUGRAM      HARYANA       122002      IN  False  \n",
       "2         453      KOLKATA  WEST BENGAL       700029      IN  False  \n",
       "3         729    THANJAVUR   TAMIL NADU       613007      IN  False  \n",
       "4         544     GURUGRAM      HARYANA       122001      IN  False  \n",
       "...       ...          ...          ...          ...     ...    ...  \n",
       "31042     565         PUNE  MAHARASHTRA       412307      IN  False  \n",
       "31043     939    BENGALURU    KARNATAKA       560061      IN  False  \n",
       "31044    1115  PITHORAGARH  UTTARAKHAND       262501      IN  False  \n",
       "31045     399        DHULE  MAHARASHTRA       424006      IN  False  \n",
       "31046     791     WARANGAL    TELANGANA       506001      IN  False  \n",
       "\n",
       "[31047 rows x 18 columns]"
      ]
     },
     "execution_count": 22,
     "metadata": {},
     "output_type": "execute_result"
    }
   ],
   "source": [
    "df"
   ]
  },
  {
   "cell_type": "code",
   "execution_count": 23,
   "metadata": {},
   "outputs": [],
   "source": [
    "def age_converter(cell):\n",
    "    if cell<20:\n",
    "        return \"Teen\"\n",
    "    elif cell>=20 and cell<40:\n",
    "        return \"Adult\"\n",
    "    else :\n",
    "        return \"Senior\"\n",
    "df[\"Age Group\"]=df[\"Age\"].apply(lambda x:age_converter(x))"
   ]
  },
  {
   "cell_type": "code",
   "execution_count": 24,
   "metadata": {},
   "outputs": [
    {
     "data": {
      "text/html": [
       "<div>\n",
       "<style scoped>\n",
       "    .dataframe tbody tr th:only-of-type {\n",
       "        vertical-align: middle;\n",
       "    }\n",
       "\n",
       "    .dataframe tbody tr th {\n",
       "        vertical-align: top;\n",
       "    }\n",
       "\n",
       "    .dataframe thead th {\n",
       "        text-align: right;\n",
       "    }\n",
       "</style>\n",
       "<table border=\"1\" class=\"dataframe\">\n",
       "  <thead>\n",
       "    <tr style=\"text-align: right;\">\n",
       "      <th></th>\n",
       "      <th>Order ID</th>\n",
       "      <th>Cust ID</th>\n",
       "      <th>Gender</th>\n",
       "      <th>Age</th>\n",
       "      <th>Date</th>\n",
       "      <th>Status</th>\n",
       "      <th>Channel</th>\n",
       "      <th>SKU</th>\n",
       "      <th>Category</th>\n",
       "      <th>Size</th>\n",
       "      <th>Qty</th>\n",
       "      <th>Currency</th>\n",
       "      <th>Amount</th>\n",
       "      <th>City</th>\n",
       "      <th>State</th>\n",
       "      <th>Postal Code</th>\n",
       "      <th>Country</th>\n",
       "      <th>B2B</th>\n",
       "      <th>Age Group</th>\n",
       "    </tr>\n",
       "  </thead>\n",
       "  <tbody>\n",
       "    <tr>\n",
       "      <th>0</th>\n",
       "      <td>171-1029312-3038738</td>\n",
       "      <td>1029312</td>\n",
       "      <td>W</td>\n",
       "      <td>44</td>\n",
       "      <td>2022-04-12</td>\n",
       "      <td>Delivered</td>\n",
       "      <td>Myntra</td>\n",
       "      <td>JNE1233-BLUE-KR-031-XXL</td>\n",
       "      <td>kurta</td>\n",
       "      <td>XXL</td>\n",
       "      <td>1</td>\n",
       "      <td>INR</td>\n",
       "      <td>376</td>\n",
       "      <td>MOHALI</td>\n",
       "      <td>PUNJAB</td>\n",
       "      <td>140301</td>\n",
       "      <td>IN</td>\n",
       "      <td>False</td>\n",
       "      <td>Senior</td>\n",
       "    </tr>\n",
       "    <tr>\n",
       "      <th>1</th>\n",
       "      <td>405-2183842-2225946</td>\n",
       "      <td>2183842</td>\n",
       "      <td>W</td>\n",
       "      <td>29</td>\n",
       "      <td>2022-04-12</td>\n",
       "      <td>Delivered</td>\n",
       "      <td>Ajio</td>\n",
       "      <td>SET414-KR-NP-L</td>\n",
       "      <td>Hoodie</td>\n",
       "      <td>L</td>\n",
       "      <td>1</td>\n",
       "      <td>INR</td>\n",
       "      <td>1449</td>\n",
       "      <td>GURUGRAM</td>\n",
       "      <td>HARYANA</td>\n",
       "      <td>122002</td>\n",
       "      <td>IN</td>\n",
       "      <td>False</td>\n",
       "      <td>Adult</td>\n",
       "    </tr>\n",
       "    <tr>\n",
       "      <th>2</th>\n",
       "      <td>171-1641533-8921966</td>\n",
       "      <td>1641533</td>\n",
       "      <td>W</td>\n",
       "      <td>67</td>\n",
       "      <td>2022-04-12</td>\n",
       "      <td>Delivered</td>\n",
       "      <td>Myntra</td>\n",
       "      <td>SET261-KR-PP-S</td>\n",
       "      <td>Hoodie</td>\n",
       "      <td>S</td>\n",
       "      <td>1</td>\n",
       "      <td>INR</td>\n",
       "      <td>453</td>\n",
       "      <td>KOLKATA</td>\n",
       "      <td>WEST BENGAL</td>\n",
       "      <td>700029</td>\n",
       "      <td>IN</td>\n",
       "      <td>False</td>\n",
       "      <td>Senior</td>\n",
       "    </tr>\n",
       "    <tr>\n",
       "      <th>3</th>\n",
       "      <td>404-7490807-6300351</td>\n",
       "      <td>7490807</td>\n",
       "      <td>W</td>\n",
       "      <td>20</td>\n",
       "      <td>2022-04-12</td>\n",
       "      <td>Delivered</td>\n",
       "      <td>Amazon</td>\n",
       "      <td>SET110-KR-PP-M</td>\n",
       "      <td>Hoodie</td>\n",
       "      <td>M</td>\n",
       "      <td>1</td>\n",
       "      <td>INR</td>\n",
       "      <td>729</td>\n",
       "      <td>THANJAVUR</td>\n",
       "      <td>TAMIL NADU</td>\n",
       "      <td>613007</td>\n",
       "      <td>IN</td>\n",
       "      <td>False</td>\n",
       "      <td>Adult</td>\n",
       "    </tr>\n",
       "    <tr>\n",
       "      <th>4</th>\n",
       "      <td>403-9293516-4577154</td>\n",
       "      <td>9293516</td>\n",
       "      <td>W</td>\n",
       "      <td>62</td>\n",
       "      <td>2022-04-12</td>\n",
       "      <td>Delivered</td>\n",
       "      <td>Myntra</td>\n",
       "      <td>JNE2294-KR-A-XXL</td>\n",
       "      <td>kurta</td>\n",
       "      <td>XXL</td>\n",
       "      <td>1</td>\n",
       "      <td>INR</td>\n",
       "      <td>544</td>\n",
       "      <td>GURUGRAM</td>\n",
       "      <td>HARYANA</td>\n",
       "      <td>122001</td>\n",
       "      <td>IN</td>\n",
       "      <td>False</td>\n",
       "      <td>Senior</td>\n",
       "    </tr>\n",
       "  </tbody>\n",
       "</table>\n",
       "</div>"
      ],
      "text/plain": [
       "              Order ID  Cust ID Gender  Age       Date     Status Channel   \n",
       "0  171-1029312-3038738  1029312      W   44 2022-04-12  Delivered  Myntra  \\\n",
       "1  405-2183842-2225946  2183842      W   29 2022-04-12  Delivered    Ajio   \n",
       "2  171-1641533-8921966  1641533      W   67 2022-04-12  Delivered  Myntra   \n",
       "3  404-7490807-6300351  7490807      W   20 2022-04-12  Delivered  Amazon   \n",
       "4  403-9293516-4577154  9293516      W   62 2022-04-12  Delivered  Myntra   \n",
       "\n",
       "                       SKU Category Size Qty Currency  Amount       City   \n",
       "0  JNE1233-BLUE-KR-031-XXL    kurta  XXL   1      INR     376     MOHALI  \\\n",
       "1           SET414-KR-NP-L   Hoodie    L   1      INR    1449   GURUGRAM   \n",
       "2           SET261-KR-PP-S   Hoodie    S   1      INR     453    KOLKATA   \n",
       "3           SET110-KR-PP-M   Hoodie    M   1      INR     729  THANJAVUR   \n",
       "4         JNE2294-KR-A-XXL    kurta  XXL   1      INR     544   GURUGRAM   \n",
       "\n",
       "         State  Postal Code Country    B2B Age Group  \n",
       "0       PUNJAB       140301      IN  False    Senior  \n",
       "1      HARYANA       122002      IN  False     Adult  \n",
       "2  WEST BENGAL       700029      IN  False    Senior  \n",
       "3   TAMIL NADU       613007      IN  False     Adult  \n",
       "4      HARYANA       122001      IN  False    Senior  "
      ]
     },
     "execution_count": 24,
     "metadata": {},
     "output_type": "execute_result"
    }
   ],
   "source": [
    "df.head()"
   ]
  },
  {
   "cell_type": "code",
   "execution_count": 25,
   "metadata": {},
   "outputs": [
    {
     "data": {
      "text/plain": [
       "array(['kurta', 'Hoodie', 'Western Dress', 'Top', 'Saree', 'Blouse',\n",
       "       'Ethnic Dress', 'Bottom'], dtype=object)"
      ]
     },
     "execution_count": 25,
     "metadata": {},
     "output_type": "execute_result"
    }
   ],
   "source": [
    "df[\"Category\"].unique()"
   ]
  },
  {
   "cell_type": "code",
   "execution_count": 26,
   "metadata": {},
   "outputs": [
    {
     "data": {
      "text/plain": [
       "array(['Delivered', 'Refunded', 'Cancelled', 'Returned'], dtype=object)"
      ]
     },
     "execution_count": 26,
     "metadata": {},
     "output_type": "execute_result"
    }
   ],
   "source": [
    "df[\"Status\"].unique()"
   ]
  },
  {
   "cell_type": "code",
   "execution_count": 27,
   "metadata": {},
   "outputs": [
    {
     "data": {
      "text/plain": [
       "array(['Myntra', 'Ajio', 'Amazon', 'Flipkart', 'Meesho', 'Others',\n",
       "       'Souled Store'], dtype=object)"
      ]
     },
     "execution_count": 27,
     "metadata": {},
     "output_type": "execute_result"
    }
   ],
   "source": [
    "df[\"Channel\"].unique()"
   ]
  },
  {
   "cell_type": "code",
   "execution_count": 28,
   "metadata": {},
   "outputs": [],
   "source": [
    "# df[\"ship-country\"].unique()"
   ]
  },
  {
   "cell_type": "code",
   "execution_count": 29,
   "metadata": {},
   "outputs": [
    {
     "data": {
      "text/plain": [
       "array(['INR'], dtype=object)"
      ]
     },
     "execution_count": 29,
     "metadata": {},
     "output_type": "execute_result"
    }
   ],
   "source": [
    "df[\"Currency\"].unique()"
   ]
  },
  {
   "cell_type": "code",
   "execution_count": 30,
   "metadata": {},
   "outputs": [
    {
     "data": {
      "text/plain": [
       "Gender\n",
       "W    21553\n",
       "M     9494\n",
       "Name: count, dtype: int64"
      ]
     },
     "execution_count": 30,
     "metadata": {},
     "output_type": "execute_result"
    }
   ],
   "source": [
    "Gender_distribution=df[\"Gender\"].value_counts()\n",
    "Gender_distribution"
   ]
  },
  {
   "cell_type": "code",
   "execution_count": 31,
   "metadata": {},
   "outputs": [
    {
     "data": {
      "image/png": "[encoded data removed]",
      "text/plain": [
       "<Figure size 640x480 with 1 Axes>"
      ]
     },
     "metadata": {},
     "output_type": "display_data"
    }
   ],
   "source": [
    "ax=sns.countplot(x='Gender',data=df)\n",
    "for bars in ax.containers:\n",
    "    ax.bar_label(bars)"
   ]
  },
  {
   "cell_type": "code",
   "execution_count": 32,
   "metadata": {},
   "outputs": [
    {
     "data": {
      "text/plain": [
       "Age Group\n",
       "Adult     15691\n",
       "Senior    13894\n",
       "Teen       1462\n",
       "Name: count, dtype: int64"
      ]
     },
     "execution_count": 32,
     "metadata": {},
     "output_type": "execute_result"
    }
   ],
   "source": [
    "age_grp=df[\"Age Group\"].value_counts()\n",
    "age_grp"
   ]
  },
  {
   "cell_type": "code",
   "execution_count": 33,
   "metadata": {},
   "outputs": [
    {
     "data": {
      "image/png": "[encoded data removed]",
      "text/plain": [
       "<Figure size 640x480 with 1 Axes>"
      ]
     },
     "metadata": {},
     "output_type": "display_data"
    }
   ],
   "source": [
    "ax=sns.countplot(x='Age Group',data=df)\n",
    "for bars in ax.containers:\n",
    "    ax.bar_label(bars)"
   ]
  },
  {
   "cell_type": "code",
   "execution_count": 34,
   "metadata": {},
   "outputs": [
    {
     "data": {
      "text/plain": [
       "Channel\n",
       "Amazon          11016\n",
       "Myntra           7254\n",
       "Flipkart         6703\n",
       "Ajio             1931\n",
       "Souled Store     1484\n",
       "Meesho           1398\n",
       "Others           1261\n",
       "Name: count, dtype: int64"
      ]
     },
     "execution_count": 34,
     "metadata": {},
     "output_type": "execute_result"
    }
   ],
   "source": [
    "df[\"Channel\"].value_counts()"
   ]
  },
  {
   "cell_type": "code",
   "execution_count": 35,
   "metadata": {},
   "outputs": [
    {
     "data": {
      "image/png": "[encoded data removed]",
      "text/plain": [
       "<Figure size 640x480 with 1 Axes>"
      ]
     },
     "metadata": {},
     "output_type": "display_data"
    }
   ],
   "source": [
    "ax=sns.countplot(x='Channel',data=df)\n",
    "for bars in ax.containers:\n",
    "    ax.bar_label(bars)"
   ]
  },
  {
   "cell_type": "code",
   "execution_count": 36,
   "metadata": {},
   "outputs": [
    {
     "data": {
      "text/plain": [
       "State\n",
       "MAHARASHTRA           4519\n",
       "KARNATAKA             3988\n",
       "UTTAR PRADESH         2882\n",
       "TAMIL NADU            2679\n",
       "TELANGANA             2527\n",
       "DELHI                 1804\n",
       "KERALA                1549\n",
       "WEST BENGAL           1425\n",
       "ANDHRA PRADESH        1369\n",
       "HARYANA               1118\n",
       "GUJARAT               1058\n",
       "MADHYA PRADESH         767\n",
       "RAJASTHAN              753\n",
       "BIHAR                  572\n",
       "ODISHA                 571\n",
       "PUNJAB                 497\n",
       "ASSAM                  479\n",
       "UTTARAKHAND            453\n",
       "JHARKHAND              356\n",
       "GOA                    299\n",
       "CHHATTISGARH           246\n",
       "JAMMU & KASHMIR        214\n",
       "HIMACHAL PRADESH       197\n",
       "MANIPUR                100\n",
       "CHANDIGARH              89\n",
       "PUDUCHERRY              78\n",
       "ANDAMAN & NICOBAR       72\n",
       "SIKKIM                  71\n",
       "NAGALAND                50\n",
       "TRIPURA                 47\n",
       "ARUNACHAL PRADESH       45\n",
       "MEGHALAYA               40\n",
       "Delhi                   26\n",
       "DADRA AND NAGAR         21\n",
       "MIZORAM                 20\n",
       "LADAKH                  16\n",
       "New Delhi               10\n",
       "Punjab                   8\n",
       "Bihar                    8\n",
       "Goa                      4\n",
       "punjab                   3\n",
       "Chandigarh               3\n",
       "delhi                    3\n",
       "goa                      3\n",
       "Arunachal Pradesh        2\n",
       "Arunachal pradesh        2\n",
       "Nagaland                 1\n",
       "bihar                    1\n",
       "Manipur                  1\n",
       "Sikkim                   1\n",
       "Name: count, dtype: int64"
      ]
     },
     "execution_count": 36,
     "metadata": {},
     "output_type": "execute_result"
    }
   ],
   "source": [
    "df[\"State\"].value_counts()\n"
   ]
  },
  {
   "cell_type": "code",
   "execution_count": 37,
   "metadata": {},
   "outputs": [
    {
     "data": {
      "text/plain": [
       "Status\n",
       "Delivered    28641\n",
       "Returned      1045\n",
       "Cancelled      844\n",
       "Refunded       517\n",
       "Name: count, dtype: int64"
      ]
     },
     "execution_count": 37,
     "metadata": {},
     "output_type": "execute_result"
    }
   ],
   "source": [
    "df[\"Status\"].value_counts()"
   ]
  },
  {
   "cell_type": "code",
   "execution_count": 38,
   "metadata": {},
   "outputs": [
    {
     "data": {
      "image/png": "[encoded data removed]",
      "text/plain": [
       "<Figure size 640x480 with 1 Axes>"
      ]
     },
     "metadata": {},
     "output_type": "display_data"
    }
   ],
   "source": [
    "ax=sns.countplot(x='Status',data=df)\n",
    "for bars in ax.containers:\n",
    "    ax.bar_label(bars)"
   ]
  },
  {
   "cell_type": "code",
   "execution_count": 39,
   "metadata": {},
   "outputs": [
    {
     "data": {
      "text/plain": [
       "Size\n",
       "M       5485\n",
       "L       5144\n",
       "XL      4437\n",
       "S       4176\n",
       "XXL     4065\n",
       "3XL     3347\n",
       "XS      2503\n",
       "Free    1408\n",
       "6XL      208\n",
       "5XL      161\n",
       "4XL      113\n",
       "Name: count, dtype: int64"
      ]
     },
     "execution_count": 39,
     "metadata": {},
     "output_type": "execute_result"
    }
   ],
   "source": [
    "a_x=df[\"Size\"].value_counts()\n",
    "a_x"
   ]
  },
  {
   "cell_type": "code",
   "execution_count": 40,
   "metadata": {},
   "outputs": [],
   "source": [
    "# sns.barplot(x=a_x.index,y=a_x)"
   ]
  },
  {
   "cell_type": "code",
   "execution_count": 41,
   "metadata": {},
   "outputs": [
    {
     "data": {
      "image/png": "[encoded data removed]",
      "text/plain": [
       "<Figure size 640x480 with 1 Axes>"
      ]
     },
     "metadata": {},
     "output_type": "display_data"
    }
   ],
   "source": [
    "ax=sns.countplot(x='Size',data=df)\n",
    "for bars in ax.containers:\n",
    "    ax.bar_label(bars)"
   ]
  },
  {
   "cell_type": "code",
   "execution_count": 42,
   "metadata": {},
   "outputs": [
    {
     "data": {
      "text/html": [
       "<div>\n",
       "<style scoped>\n",
       "    .dataframe tbody tr th:only-of-type {\n",
       "        vertical-align: middle;\n",
       "    }\n",
       "\n",
       "    .dataframe tbody tr th {\n",
       "        vertical-align: top;\n",
       "    }\n",
       "\n",
       "    .dataframe thead th {\n",
       "        text-align: right;\n",
       "    }\n",
       "</style>\n",
       "<table border=\"1\" class=\"dataframe\">\n",
       "  <thead>\n",
       "    <tr style=\"text-align: right;\">\n",
       "      <th></th>\n",
       "      <th>Age Group</th>\n",
       "      <th>Amount</th>\n",
       "    </tr>\n",
       "  </thead>\n",
       "  <tbody>\n",
       "    <tr>\n",
       "      <th>0</th>\n",
       "      <td>Adult</td>\n",
       "      <td>10694704</td>\n",
       "    </tr>\n",
       "    <tr>\n",
       "      <th>1</th>\n",
       "      <td>Senior</td>\n",
       "      <td>9495910</td>\n",
       "    </tr>\n",
       "    <tr>\n",
       "      <th>2</th>\n",
       "      <td>Teen</td>\n",
       "      <td>985763</td>\n",
       "    </tr>\n",
       "  </tbody>\n",
       "</table>\n",
       "</div>"
      ],
      "text/plain": [
       "  Age Group    Amount\n",
       "0     Adult  10694704\n",
       "1    Senior   9495910\n",
       "2      Teen    985763"
      ]
     },
     "execution_count": 42,
     "metadata": {},
     "output_type": "execute_result"
    }
   ],
   "source": [
    "agegrp_amount=df.groupby(df[\"Age Group\"],as_index=False)[\"Amount\"].sum().sort_values(by=\"Amount\",ascending=False)\n",
    "agegrp_amount"
   ]
  },
  {
   "cell_type": "code",
   "execution_count": 43,
   "metadata": {},
   "outputs": [
    {
     "data": {
      "image/png": "[encoded data removed]",
      "text/plain": [
       "<Figure size 640x480 with 1 Axes>"
      ]
     },
     "metadata": {},
     "output_type": "display_data"
    }
   ],
   "source": [
    "ax=sns.barplot(x=\"Age Group\",y=\"Amount\",data=agegrp_amount)\n",
    "for bars in ax.containers:\n",
    "    ax.bar_label(bars)"
   ]
  },
  {
   "cell_type": "code",
   "execution_count": 44,
   "metadata": {},
   "outputs": [
    {
     "data": {
      "text/plain": [
       "Channel\n",
       "Amazon          11016\n",
       "Myntra           7254\n",
       "Flipkart         6703\n",
       "Ajio             1931\n",
       "Souled Store     1484\n",
       "Meesho           1398\n",
       "Others           1261\n",
       "Name: count, dtype: int64"
      ]
     },
     "execution_count": 44,
     "metadata": {},
     "output_type": "execute_result"
    }
   ],
   "source": [
    "ax=df[\"Channel\"].value_counts()\n",
    "ax"
   ]
  },
  {
   "cell_type": "code",
   "execution_count": 45,
   "metadata": {},
   "outputs": [
    {
     "data": {
      "image/png": "[encoded data removed]",
      "text/plain": [
       "<Figure size 640x480 with 1 Axes>"
      ]
     },
     "metadata": {},
     "output_type": "display_data"
    }
   ],
   "source": [
    "plt.pie(x=ax,labels=ax.index,autopct='%1.1f%%')\n",
    "plt.show()"
   ]
  },
  {
   "cell_type": "code",
   "execution_count": 46,
   "metadata": {},
   "outputs": [
    {
     "data": {
      "text/plain": [
       "Category\n",
       "Hoodie           12391\n",
       "kurta            10446\n",
       "Western Dress     4066\n",
       "Top               2193\n",
       "Saree             1380\n",
       "Ethnic Dress       264\n",
       "Blouse             229\n",
       "Bottom              78\n",
       "Name: count, dtype: int64"
      ]
     },
     "execution_count": 46,
     "metadata": {},
     "output_type": "execute_result"
    }
   ],
   "source": [
    "df[\"Category\"].value_counts()\n"
   ]
  },
  {
   "cell_type": "code",
   "execution_count": 47,
   "metadata": {},
   "outputs": [
    {
     "data": {
      "image/png": "[encoded data removed]",
      "text/plain": [
       "<Figure size 640x480 with 1 Axes>"
      ]
     },
     "metadata": {},
     "output_type": "display_data"
    }
   ],
   "source": [
    "ax=sns.countplot(y=\"Category\",data=df)\n",
    "for i in ax.containers:\n",
    "    ax.bar_label(i)"
   ]
  },
  {
   "cell_type": "code",
   "execution_count": 48,
   "metadata": {},
   "outputs": [],
   "source": [
    "df[\"Month\"]=df[\"Date\"].dt.month"
   ]
  },
  {
   "cell_type": "code",
   "execution_count": 49,
   "metadata": {},
   "outputs": [
    {
     "data": {
      "text/plain": [
       "array([4, 5, 6])"
      ]
     },
     "execution_count": 49,
     "metadata": {},
     "output_type": "execute_result"
    }
   ],
   "source": [
    "df[\"Month\"].unique()"
   ]
  },
  {
   "cell_type": "code",
   "execution_count": 50,
   "metadata": {},
   "outputs": [],
   "source": [
    "def month_converter(cell):\n",
    "    if cell==4:\n",
    "        return \"April\"\n",
    "    elif cell==5:\n",
    "        return \"May\"\n",
    "    else:\n",
    "        return \"June\"\n",
    "df[\"Month\"]=df[\"Month\"].apply(lambda x:month_converter(x))"
   ]
  },
  {
   "cell_type": "code",
   "execution_count": 51,
   "metadata": {},
   "outputs": [
    {
     "data": {
      "text/html": [
       "<div>\n",
       "<style scoped>\n",
       "    .dataframe tbody tr th:only-of-type {\n",
       "        vertical-align: middle;\n",
       "    }\n",
       "\n",
       "    .dataframe tbody tr th {\n",
       "        vertical-align: top;\n",
       "    }\n",
       "\n",
       "    .dataframe thead th {\n",
       "        text-align: right;\n",
       "    }\n",
       "</style>\n",
       "<table border=\"1\" class=\"dataframe\">\n",
       "  <thead>\n",
       "    <tr style=\"text-align: right;\">\n",
       "      <th></th>\n",
       "      <th>Order ID</th>\n",
       "      <th>Cust ID</th>\n",
       "      <th>Gender</th>\n",
       "      <th>Age</th>\n",
       "      <th>Date</th>\n",
       "      <th>Status</th>\n",
       "      <th>Channel</th>\n",
       "      <th>SKU</th>\n",
       "      <th>Category</th>\n",
       "      <th>Size</th>\n",
       "      <th>Qty</th>\n",
       "      <th>Currency</th>\n",
       "      <th>Amount</th>\n",
       "      <th>City</th>\n",
       "      <th>State</th>\n",
       "      <th>Postal Code</th>\n",
       "      <th>Country</th>\n",
       "      <th>B2B</th>\n",
       "      <th>Age Group</th>\n",
       "      <th>Month</th>\n",
       "    </tr>\n",
       "  </thead>\n",
       "  <tbody>\n",
       "    <tr>\n",
       "      <th>0</th>\n",
       "      <td>171-1029312-3038738</td>\n",
       "      <td>1029312</td>\n",
       "      <td>W</td>\n",
       "      <td>44</td>\n",
       "      <td>2022-04-12</td>\n",
       "      <td>Delivered</td>\n",
       "      <td>Myntra</td>\n",
       "      <td>JNE1233-BLUE-KR-031-XXL</td>\n",
       "      <td>kurta</td>\n",
       "      <td>XXL</td>\n",
       "      <td>1</td>\n",
       "      <td>INR</td>\n",
       "      <td>376</td>\n",
       "      <td>MOHALI</td>\n",
       "      <td>PUNJAB</td>\n",
       "      <td>140301</td>\n",
       "      <td>IN</td>\n",
       "      <td>False</td>\n",
       "      <td>Senior</td>\n",
       "      <td>April</td>\n",
       "    </tr>\n",
       "    <tr>\n",
       "      <th>1</th>\n",
       "      <td>405-2183842-2225946</td>\n",
       "      <td>2183842</td>\n",
       "      <td>W</td>\n",
       "      <td>29</td>\n",
       "      <td>2022-04-12</td>\n",
       "      <td>Delivered</td>\n",
       "      <td>Ajio</td>\n",
       "      <td>SET414-KR-NP-L</td>\n",
       "      <td>Hoodie</td>\n",
       "      <td>L</td>\n",
       "      <td>1</td>\n",
       "      <td>INR</td>\n",
       "      <td>1449</td>\n",
       "      <td>GURUGRAM</td>\n",
       "      <td>HARYANA</td>\n",
       "      <td>122002</td>\n",
       "      <td>IN</td>\n",
       "      <td>False</td>\n",
       "      <td>Adult</td>\n",
       "      <td>April</td>\n",
       "    </tr>\n",
       "    <tr>\n",
       "      <th>2</th>\n",
       "      <td>171-1641533-8921966</td>\n",
       "      <td>1641533</td>\n",
       "      <td>W</td>\n",
       "      <td>67</td>\n",
       "      <td>2022-04-12</td>\n",
       "      <td>Delivered</td>\n",
       "      <td>Myntra</td>\n",
       "      <td>SET261-KR-PP-S</td>\n",
       "      <td>Hoodie</td>\n",
       "      <td>S</td>\n",
       "      <td>1</td>\n",
       "      <td>INR</td>\n",
       "      <td>453</td>\n",
       "      <td>KOLKATA</td>\n",
       "      <td>WEST BENGAL</td>\n",
       "      <td>700029</td>\n",
       "      <td>IN</td>\n",
       "      <td>False</td>\n",
       "      <td>Senior</td>\n",
       "      <td>April</td>\n",
       "    </tr>\n",
       "    <tr>\n",
       "      <th>3</th>\n",
       "      <td>404-7490807-6300351</td>\n",
       "      <td>7490807</td>\n",
       "      <td>W</td>\n",
       "      <td>20</td>\n",
       "      <td>2022-04-12</td>\n",
       "      <td>Delivered</td>\n",
       "      <td>Amazon</td>\n",
       "      <td>SET110-KR-PP-M</td>\n",
       "      <td>Hoodie</td>\n",
       "      <td>M</td>\n",
       "      <td>1</td>\n",
       "      <td>INR</td>\n",
       "      <td>729</td>\n",
       "      <td>THANJAVUR</td>\n",
       "      <td>TAMIL NADU</td>\n",
       "      <td>613007</td>\n",
       "      <td>IN</td>\n",
       "      <td>False</td>\n",
       "      <td>Adult</td>\n",
       "      <td>April</td>\n",
       "    </tr>\n",
       "    <tr>\n",
       "      <th>4</th>\n",
       "      <td>403-9293516-4577154</td>\n",
       "      <td>9293516</td>\n",
       "      <td>W</td>\n",
       "      <td>62</td>\n",
       "      <td>2022-04-12</td>\n",
       "      <td>Delivered</td>\n",
       "      <td>Myntra</td>\n",
       "      <td>JNE2294-KR-A-XXL</td>\n",
       "      <td>kurta</td>\n",
       "      <td>XXL</td>\n",
       "      <td>1</td>\n",
       "      <td>INR</td>\n",
       "      <td>544</td>\n",
       "      <td>GURUGRAM</td>\n",
       "      <td>HARYANA</td>\n",
       "      <td>122001</td>\n",
       "      <td>IN</td>\n",
       "      <td>False</td>\n",
       "      <td>Senior</td>\n",
       "      <td>April</td>\n",
       "    </tr>\n",
       "  </tbody>\n",
       "</table>\n",
       "</div>"
      ],
      "text/plain": [
       "              Order ID  Cust ID Gender  Age       Date     Status Channel   \n",
       "0  171-1029312-3038738  1029312      W   44 2022-04-12  Delivered  Myntra  \\\n",
       "1  405-2183842-2225946  2183842      W   29 2022-04-12  Delivered    Ajio   \n",
       "2  171-1641533-8921966  1641533      W   67 2022-04-12  Delivered  Myntra   \n",
       "3  404-7490807-6300351  7490807      W   20 2022-04-12  Delivered  Amazon   \n",
       "4  403-9293516-4577154  9293516      W   62 2022-04-12  Delivered  Myntra   \n",
       "\n",
       "                       SKU Category Size Qty Currency  Amount       City   \n",
       "0  JNE1233-BLUE-KR-031-XXL    kurta  XXL   1      INR     376     MOHALI  \\\n",
       "1           SET414-KR-NP-L   Hoodie    L   1      INR    1449   GURUGRAM   \n",
       "2           SET261-KR-PP-S   Hoodie    S   1      INR     453    KOLKATA   \n",
       "3           SET110-KR-PP-M   Hoodie    M   1      INR     729  THANJAVUR   \n",
       "4         JNE2294-KR-A-XXL    kurta  XXL   1      INR     544   GURUGRAM   \n",
       "\n",
       "         State  Postal Code Country    B2B Age Group  Month  \n",
       "0       PUNJAB       140301      IN  False    Senior  April  \n",
       "1      HARYANA       122002      IN  False     Adult  April  \n",
       "2  WEST BENGAL       700029      IN  False    Senior  April  \n",
       "3   TAMIL NADU       613007      IN  False     Adult  April  \n",
       "4      HARYANA       122001      IN  False    Senior  April  "
      ]
     },
     "execution_count": 51,
     "metadata": {},
     "output_type": "execute_result"
    }
   ],
   "source": [
    "df.head()"
   ]
  },
  {
   "cell_type": "code",
   "execution_count": 52,
   "metadata": {},
   "outputs": [
    {
     "data": {
      "text/plain": [
       "Month\n",
       "May      10825\n",
       "April    10758\n",
       "June      9464\n",
       "Name: count, dtype: int64"
      ]
     },
     "execution_count": 52,
     "metadata": {},
     "output_type": "execute_result"
    }
   ],
   "source": [
    "df[\"Month\"].value_counts()"
   ]
  },
  {
   "cell_type": "code",
   "execution_count": 53,
   "metadata": {},
   "outputs": [
    {
     "data": {
      "image/png": "[encoded data removed]",
      "text/plain": [
       "<Figure size 640x480 with 1 Axes>"
      ]
     },
     "metadata": {},
     "output_type": "display_data"
    }
   ],
   "source": [
    "ax=sns.countplot(x=\"Month\",data=df)\n",
    "for bars in ax.containers:\n",
    "    ax.bar_label(bars)"
   ]
  },
  {
   "cell_type": "code",
   "execution_count": 54,
   "metadata": {},
   "outputs": [
    {
     "data": {
      "text/html": [
       "<div>\n",
       "<style scoped>\n",
       "    .dataframe tbody tr th:only-of-type {\n",
       "        vertical-align: middle;\n",
       "    }\n",
       "\n",
       "    .dataframe tbody tr th {\n",
       "        vertical-align: top;\n",
       "    }\n",
       "\n",
       "    .dataframe thead th {\n",
       "        text-align: right;\n",
       "    }\n",
       "</style>\n",
       "<table border=\"1\" class=\"dataframe\">\n",
       "  <thead>\n",
       "    <tr style=\"text-align: right;\">\n",
       "      <th></th>\n",
       "      <th>Order ID</th>\n",
       "      <th>Cust ID</th>\n",
       "      <th>Gender</th>\n",
       "      <th>Age</th>\n",
       "      <th>Date</th>\n",
       "      <th>Status</th>\n",
       "      <th>Channel</th>\n",
       "      <th>SKU</th>\n",
       "      <th>Category</th>\n",
       "      <th>Size</th>\n",
       "      <th>Qty</th>\n",
       "      <th>Currency</th>\n",
       "      <th>Amount</th>\n",
       "      <th>City</th>\n",
       "      <th>State</th>\n",
       "      <th>Postal Code</th>\n",
       "      <th>Country</th>\n",
       "      <th>B2B</th>\n",
       "      <th>Age Group</th>\n",
       "      <th>Month</th>\n",
       "    </tr>\n",
       "  </thead>\n",
       "  <tbody>\n",
       "    <tr>\n",
       "      <th>0</th>\n",
       "      <td>171-1029312-3038738</td>\n",
       "      <td>1029312</td>\n",
       "      <td>W</td>\n",
       "      <td>44</td>\n",
       "      <td>2022-04-12</td>\n",
       "      <td>Delivered</td>\n",
       "      <td>Myntra</td>\n",
       "      <td>JNE1233-BLUE-KR-031-XXL</td>\n",
       "      <td>kurta</td>\n",
       "      <td>XXL</td>\n",
       "      <td>1</td>\n",
       "      <td>INR</td>\n",
       "      <td>376</td>\n",
       "      <td>MOHALI</td>\n",
       "      <td>PUNJAB</td>\n",
       "      <td>140301</td>\n",
       "      <td>IN</td>\n",
       "      <td>False</td>\n",
       "      <td>Senior</td>\n",
       "      <td>April</td>\n",
       "    </tr>\n",
       "    <tr>\n",
       "      <th>1</th>\n",
       "      <td>405-2183842-2225946</td>\n",
       "      <td>2183842</td>\n",
       "      <td>W</td>\n",
       "      <td>29</td>\n",
       "      <td>2022-04-12</td>\n",
       "      <td>Delivered</td>\n",
       "      <td>Ajio</td>\n",
       "      <td>SET414-KR-NP-L</td>\n",
       "      <td>Hoodie</td>\n",
       "      <td>L</td>\n",
       "      <td>1</td>\n",
       "      <td>INR</td>\n",
       "      <td>1449</td>\n",
       "      <td>GURUGRAM</td>\n",
       "      <td>HARYANA</td>\n",
       "      <td>122002</td>\n",
       "      <td>IN</td>\n",
       "      <td>False</td>\n",
       "      <td>Adult</td>\n",
       "      <td>April</td>\n",
       "    </tr>\n",
       "    <tr>\n",
       "      <th>2</th>\n",
       "      <td>171-1641533-8921966</td>\n",
       "      <td>1641533</td>\n",
       "      <td>W</td>\n",
       "      <td>67</td>\n",
       "      <td>2022-04-12</td>\n",
       "      <td>Delivered</td>\n",
       "      <td>Myntra</td>\n",
       "      <td>SET261-KR-PP-S</td>\n",
       "      <td>Hoodie</td>\n",
       "      <td>S</td>\n",
       "      <td>1</td>\n",
       "      <td>INR</td>\n",
       "      <td>453</td>\n",
       "      <td>KOLKATA</td>\n",
       "      <td>WEST BENGAL</td>\n",
       "      <td>700029</td>\n",
       "      <td>IN</td>\n",
       "      <td>False</td>\n",
       "      <td>Senior</td>\n",
       "      <td>April</td>\n",
       "    </tr>\n",
       "    <tr>\n",
       "      <th>3</th>\n",
       "      <td>404-7490807-6300351</td>\n",
       "      <td>7490807</td>\n",
       "      <td>W</td>\n",
       "      <td>20</td>\n",
       "      <td>2022-04-12</td>\n",
       "      <td>Delivered</td>\n",
       "      <td>Amazon</td>\n",
       "      <td>SET110-KR-PP-M</td>\n",
       "      <td>Hoodie</td>\n",
       "      <td>M</td>\n",
       "      <td>1</td>\n",
       "      <td>INR</td>\n",
       "      <td>729</td>\n",
       "      <td>THANJAVUR</td>\n",
       "      <td>TAMIL NADU</td>\n",
       "      <td>613007</td>\n",
       "      <td>IN</td>\n",
       "      <td>False</td>\n",
       "      <td>Adult</td>\n",
       "      <td>April</td>\n",
       "    </tr>\n",
       "    <tr>\n",
       "      <th>4</th>\n",
       "      <td>403-9293516-4577154</td>\n",
       "      <td>9293516</td>\n",
       "      <td>W</td>\n",
       "      <td>62</td>\n",
       "      <td>2022-04-12</td>\n",
       "      <td>Delivered</td>\n",
       "      <td>Myntra</td>\n",
       "      <td>JNE2294-KR-A-XXL</td>\n",
       "      <td>kurta</td>\n",
       "      <td>XXL</td>\n",
       "      <td>1</td>\n",
       "      <td>INR</td>\n",
       "      <td>544</td>\n",
       "      <td>GURUGRAM</td>\n",
       "      <td>HARYANA</td>\n",
       "      <td>122001</td>\n",
       "      <td>IN</td>\n",
       "      <td>False</td>\n",
       "      <td>Senior</td>\n",
       "      <td>April</td>\n",
       "    </tr>\n",
       "  </tbody>\n",
       "</table>\n",
       "</div>"
      ],
      "text/plain": [
       "              Order ID  Cust ID Gender  Age       Date     Status Channel   \n",
       "0  171-1029312-3038738  1029312      W   44 2022-04-12  Delivered  Myntra  \\\n",
       "1  405-2183842-2225946  2183842      W   29 2022-04-12  Delivered    Ajio   \n",
       "2  171-1641533-8921966  1641533      W   67 2022-04-12  Delivered  Myntra   \n",
       "3  404-7490807-6300351  7490807      W   20 2022-04-12  Delivered  Amazon   \n",
       "4  403-9293516-4577154  9293516      W   62 2022-04-12  Delivered  Myntra   \n",
       "\n",
       "                       SKU Category Size Qty Currency  Amount       City   \n",
       "0  JNE1233-BLUE-KR-031-XXL    kurta  XXL   1      INR     376     MOHALI  \\\n",
       "1           SET414-KR-NP-L   Hoodie    L   1      INR    1449   GURUGRAM   \n",
       "2           SET261-KR-PP-S   Hoodie    S   1      INR     453    KOLKATA   \n",
       "3           SET110-KR-PP-M   Hoodie    M   1      INR     729  THANJAVUR   \n",
       "4         JNE2294-KR-A-XXL    kurta  XXL   1      INR     544   GURUGRAM   \n",
       "\n",
       "         State  Postal Code Country    B2B Age Group  Month  \n",
       "0       PUNJAB       140301      IN  False    Senior  April  \n",
       "1      HARYANA       122002      IN  False     Adult  April  \n",
       "2  WEST BENGAL       700029      IN  False    Senior  April  \n",
       "3   TAMIL NADU       613007      IN  False     Adult  April  \n",
       "4      HARYANA       122001      IN  False    Senior  April  "
      ]
     },
     "execution_count": 54,
     "metadata": {},
     "output_type": "execute_result"
    }
   ],
   "source": [
    "df.head()"
   ]
  },
  {
   "cell_type": "code",
   "execution_count": 55,
   "metadata": {},
   "outputs": [
    {
     "data": {
      "text/plain": [
       "Month  Gender\n",
       "April  W         7639\n",
       "       M         3119\n",
       "June   W         6253\n",
       "       M         3211\n",
       "May    W         7661\n",
       "       M         3164\n",
       "Name: count, dtype: int64"
      ]
     },
     "execution_count": 55,
     "metadata": {},
     "output_type": "execute_result"
    }
   ],
   "source": [
    "per_month=df.groupby([\"Month\"])[\"Gender\"].value_counts()\n",
    "per_month"
   ]
  },
  {
   "cell_type": "code",
   "execution_count": 56,
   "metadata": {},
   "outputs": [
    {
     "data": {
      "image/png": "[encoded data removed]",
      "text/plain": [
       "<Figure size 640x480 with 1 Axes>"
      ]
     },
     "metadata": {},
     "output_type": "display_data"
    }
   ],
   "source": [
    "ax=sns.countplot(x=\"Month\",data=df,hue=\"Gender\")\n",
    "for i in ax.containers:\n",
    "    ax.bar_label(i)"
   ]
  },
  {
   "cell_type": "code",
   "execution_count": 57,
   "metadata": {},
   "outputs": [
    {
     "data": {
      "text/plain": [
       "Month  Channel     \n",
       "April  Amazon          3776\n",
       "       Myntra          2573\n",
       "       Flipkart        2310\n",
       "       Ajio             713\n",
       "       Souled Store     494\n",
       "       Meesho           464\n",
       "       Others           428\n",
       "June   Amazon          3417\n",
       "       Myntra          2153\n",
       "       Flipkart        2015\n",
       "       Ajio             570\n",
       "       Souled Store     466\n",
       "       Meesho           429\n",
       "       Others           414\n",
       "May    Amazon          3823\n",
       "       Myntra          2528\n",
       "       Flipkart        2378\n",
       "       Ajio             648\n",
       "       Souled Store     524\n",
       "       Meesho           505\n",
       "       Others           419\n",
       "Name: count, dtype: int64"
      ]
     },
     "execution_count": 57,
     "metadata": {},
     "output_type": "execute_result"
    }
   ],
   "source": [
    "df.groupby([\"Month\"])[\"Channel\"].value_counts()"
   ]
  },
  {
   "cell_type": "code",
   "execution_count": 58,
   "metadata": {},
   "outputs": [
    {
     "data": {
      "image/png": "[encoded data removed]",
      "text/plain": [
       "<Figure size 640x480 with 1 Axes>"
      ]
     },
     "metadata": {},
     "output_type": "display_data"
    }
   ],
   "source": [
    "ax=sns.countplot(x=\"Month\",data=df,hue=\"Channel\")\n",
    "for i in ax.containers:\n",
    "    ax.bar_label(i)"
   ]
  },
  {
   "cell_type": "code",
   "execution_count": 59,
   "metadata": {},
   "outputs": [
    {
     "data": {
      "image/png": "[encoded data removed]",
      "text/plain": [
       "<Figure size 640x480 with 1 Axes>"
      ]
     },
     "metadata": {},
     "output_type": "display_data"
    }
   ],
   "source": [
    "ax=sns.countplot(x=\"Channel\",data=df,hue=\"Gender\")\n",
    "for i in ax.containers:\n",
    "    ax.bar_label(i)"
   ]
  },
  {
   "cell_type": "code",
   "execution_count": 60,
   "metadata": {},
   "outputs": [
    {
     "data": {
      "text/html": [
       "<div>\n",
       "<style scoped>\n",
       "    .dataframe tbody tr th:only-of-type {\n",
       "        vertical-align: middle;\n",
       "    }\n",
       "\n",
       "    .dataframe tbody tr th {\n",
       "        vertical-align: top;\n",
       "    }\n",
       "\n",
       "    .dataframe thead th {\n",
       "        text-align: right;\n",
       "    }\n",
       "</style>\n",
       "<table border=\"1\" class=\"dataframe\">\n",
       "  <thead>\n",
       "    <tr style=\"text-align: right;\">\n",
       "      <th></th>\n",
       "      <th>Order ID</th>\n",
       "      <th>Cust ID</th>\n",
       "      <th>Gender</th>\n",
       "      <th>Age</th>\n",
       "      <th>Date</th>\n",
       "      <th>Status</th>\n",
       "      <th>Channel</th>\n",
       "      <th>SKU</th>\n",
       "      <th>Category</th>\n",
       "      <th>Size</th>\n",
       "      <th>Qty</th>\n",
       "      <th>Currency</th>\n",
       "      <th>Amount</th>\n",
       "      <th>City</th>\n",
       "      <th>State</th>\n",
       "      <th>Postal Code</th>\n",
       "      <th>Country</th>\n",
       "      <th>B2B</th>\n",
       "      <th>Age Group</th>\n",
       "      <th>Month</th>\n",
       "    </tr>\n",
       "  </thead>\n",
       "  <tbody>\n",
       "    <tr>\n",
       "      <th>0</th>\n",
       "      <td>171-1029312-3038738</td>\n",
       "      <td>1029312</td>\n",
       "      <td>W</td>\n",
       "      <td>44</td>\n",
       "      <td>2022-04-12</td>\n",
       "      <td>Delivered</td>\n",
       "      <td>Myntra</td>\n",
       "      <td>JNE1233-BLUE-KR-031-XXL</td>\n",
       "      <td>kurta</td>\n",
       "      <td>XXL</td>\n",
       "      <td>1</td>\n",
       "      <td>INR</td>\n",
       "      <td>376</td>\n",
       "      <td>MOHALI</td>\n",
       "      <td>PUNJAB</td>\n",
       "      <td>140301</td>\n",
       "      <td>IN</td>\n",
       "      <td>False</td>\n",
       "      <td>Senior</td>\n",
       "      <td>April</td>\n",
       "    </tr>\n",
       "    <tr>\n",
       "      <th>1</th>\n",
       "      <td>405-2183842-2225946</td>\n",
       "      <td>2183842</td>\n",
       "      <td>W</td>\n",
       "      <td>29</td>\n",
       "      <td>2022-04-12</td>\n",
       "      <td>Delivered</td>\n",
       "      <td>Ajio</td>\n",
       "      <td>SET414-KR-NP-L</td>\n",
       "      <td>Hoodie</td>\n",
       "      <td>L</td>\n",
       "      <td>1</td>\n",
       "      <td>INR</td>\n",
       "      <td>1449</td>\n",
       "      <td>GURUGRAM</td>\n",
       "      <td>HARYANA</td>\n",
       "      <td>122002</td>\n",
       "      <td>IN</td>\n",
       "      <td>False</td>\n",
       "      <td>Adult</td>\n",
       "      <td>April</td>\n",
       "    </tr>\n",
       "  </tbody>\n",
       "</table>\n",
       "</div>"
      ],
      "text/plain": [
       "              Order ID  Cust ID Gender  Age       Date     Status Channel   \n",
       "0  171-1029312-3038738  1029312      W   44 2022-04-12  Delivered  Myntra  \\\n",
       "1  405-2183842-2225946  2183842      W   29 2022-04-12  Delivered    Ajio   \n",
       "\n",
       "                       SKU Category Size Qty Currency  Amount      City   \n",
       "0  JNE1233-BLUE-KR-031-XXL    kurta  XXL   1      INR     376    MOHALI  \\\n",
       "1           SET414-KR-NP-L   Hoodie    L   1      INR    1449  GURUGRAM   \n",
       "\n",
       "     State  Postal Code Country    B2B Age Group  Month  \n",
       "0   PUNJAB       140301      IN  False    Senior  April  \n",
       "1  HARYANA       122002      IN  False     Adult  April  "
      ]
     },
     "execution_count": 60,
     "metadata": {},
     "output_type": "execute_result"
    }
   ],
   "source": [
    "df.head(2)"
   ]
  },
  {
   "cell_type": "code",
   "execution_count": 61,
   "metadata": {},
   "outputs": [
    {
     "data": {
      "text/plain": [
       "Category       Size\n",
       "Blouse         L         53\n",
       "               M         43\n",
       "               S         37\n",
       "               XXL       34\n",
       "               XL        33\n",
       "               Free      28\n",
       "               XS         1\n",
       "Bottom         XXL       17\n",
       "               3XL       13\n",
       "               XL        13\n",
       "               L         13\n",
       "               S         11\n",
       "               M          7\n",
       "               XS         4\n",
       "Ethnic Dress   L         50\n",
       "               M         47\n",
       "               XL        40\n",
       "               3XL       39\n",
       "               S         39\n",
       "               XXL       31\n",
       "               XS        18\n",
       "Hoodie         M       2477\n",
       "               L       2018\n",
       "               S       1979\n",
       "               XL      1745\n",
       "               XXL     1515\n",
       "               3XL     1326\n",
       "               XS      1289\n",
       "               6XL       16\n",
       "               5XL       15\n",
       "               4XL       11\n",
       "Saree          Free    1380\n",
       "Top            M        377\n",
       "               XL       374\n",
       "               L        356\n",
       "               XXL      347\n",
       "               S        285\n",
       "               XS       231\n",
       "               3XL      223\n",
       "Western Dress  L        780\n",
       "               M        713\n",
       "               XL       586\n",
       "               XXL      561\n",
       "               S        545\n",
       "               3XL      537\n",
       "               XS       344\n",
       "kurta          L       1874\n",
       "               M       1821\n",
       "               XL      1646\n",
       "               XXL     1560\n",
       "               S       1280\n",
       "               3XL     1209\n",
       "               XS       616\n",
       "               6XL      192\n",
       "               5XL      146\n",
       "               4XL      102\n",
       "Name: count, dtype: int64"
      ]
     },
     "execution_count": 61,
     "metadata": {},
     "output_type": "execute_result"
    }
   ],
   "source": [
    "df.groupby(df[\"Category\"])[\"Size\"].value_counts()"
   ]
  },
  {
   "cell_type": "code",
   "execution_count": 62,
   "metadata": {},
   "outputs": [
    {
     "data": {
      "text/plain": [
       "<Axes: xlabel='Category', ylabel='count'>"
      ]
     },
     "execution_count": 62,
     "metadata": {},
     "output_type": "execute_result"
    },
    {
     "data": {
      "image/png": "[encoded data removed]",
      "text/plain": [
       "<Figure size 1500x1300 with 1 Axes>"
      ]
     },
     "metadata": {},
     "output_type": "display_data"
    }
   ],
   "source": [
    "plt.figure(figsize=(15,13))\n",
    "sns.countplot(x=\"Category\",data=df,hue=(df[\"Size\"]))\n"
   ]
  },
  {
   "cell_type": "code",
   "execution_count": 63,
   "metadata": {},
   "outputs": [
    {
     "data": {
      "text/plain": [
       "City\n",
       "BENGALURU    2540\n",
       "HYDERABAD    1785\n",
       "NEW DELHI    1560\n",
       "CHENNAI      1272\n",
       "MUMBAI       1224\n",
       "PUNE          726\n",
       "KOLKATA       571\n",
       "GURUGRAM      439\n",
       "LUCKNOW       421\n",
       "NOIDA         327\n",
       "Name: count, dtype: int64"
      ]
     },
     "execution_count": 63,
     "metadata": {},
     "output_type": "execute_result"
    }
   ],
   "source": [
    "ax=df[\"City\"].value_counts().head(10)\n",
    "ax"
   ]
  },
  {
   "cell_type": "code",
   "execution_count": 64,
   "metadata": {},
   "outputs": [
    {
     "data": {
      "text/plain": [
       "array([2540, 1785, 1560, 1272, 1224,  726,  571,  439,  421,  327],\n",
       "      dtype=int64)"
      ]
     },
     "execution_count": 64,
     "metadata": {},
     "output_type": "execute_result"
    }
   ],
   "source": [
    "ax.values"
   ]
  },
  {
   "cell_type": "code",
   "execution_count": 65,
   "metadata": {},
   "outputs": [
    {
     "data": {
      "text/plain": [
       "Index(['BENGALURU', 'HYDERABAD', 'NEW DELHI', 'CHENNAI', 'MUMBAI', 'PUNE',\n",
       "       'KOLKATA', 'GURUGRAM', 'LUCKNOW', 'NOIDA'],\n",
       "      dtype='object', name='City')"
      ]
     },
     "execution_count": 65,
     "metadata": {},
     "output_type": "execute_result"
    }
   ],
   "source": [
    "ax.index"
   ]
  },
  {
   "cell_type": "code",
   "execution_count": 66,
   "metadata": {},
   "outputs": [
    {
     "data": {
      "image/png": "[encoded data removed]",
      "text/plain": [
       "<Figure size 640x480 with 1 Axes>"
      ]
     },
     "metadata": {},
     "output_type": "display_data"
    }
   ],
   "source": [
    "df[\"City\"].value_counts().head(10).plot(kind=\"bar\")\n",
    "for i in range(len(ax)):\n",
    "    plt.text(i,ax[i],ax.values[i])"
   ]
  }
 ],
 "metadata": {
  "kernelspec": {
   "display_name": "Python 3 (ipykernel)",
   "language": "python",
   "name": "python3"
  },
  "language_info": {
   "codemirror_mode": {
    "name": "ipython",
    "version": 3
   },
   "file_extension": ".py",
   "mimetype": "text/x-python",
   "name": "python",
   "nbconvert_exporter": "python",
   "pygments_lexer": "ipython3",
   "version": "3.9.13"
  }
 },
 "nbformat": 4,
 "nbformat_minor": 2
}
